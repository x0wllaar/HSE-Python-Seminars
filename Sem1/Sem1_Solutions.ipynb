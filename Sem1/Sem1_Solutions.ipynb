{
 "cells": [
  {
   "cell_type": "code",
   "execution_count": 3,
   "metadata": {},
   "outputs": [
    {
     "name": "stdout",
     "output_type": "stream",
     "text": [
      "A=3, B=14\n",
      "A=14, B=3\n",
      "A=3, B=14\n"
     ]
    }
   ],
   "source": [
    "#1) Given 2 variables a and b, exchange their values\n",
    "#a) With a 3rd temporary variable\n",
    "#b) Without a 3rd variable (multiple assignment)\n",
    "\n",
    "a = 3\n",
    "b = 14\n",
    "\n",
    "print(\"A={}, B={}\".format(a,b))\n",
    "\n",
    "#a)\n",
    "temp = a\n",
    "a = b\n",
    "b = temp\n",
    "print(\"A={}, B={}\".format(a,b))\n",
    "\n",
    "#b) #We can use multiple assignment for this\n",
    "a,b = b,a\n",
    "print(\"A={}, B={}\".format(a,b))"
   ]
  },
  {
   "cell_type": "code",
   "execution_count": 4,
   "metadata": {},
   "outputs": [
    {
     "name": "stdout",
     "output_type": "stream",
     "text": [
      "Average = 9.0\n"
     ]
    }
   ],
   "source": [
    "#2) Given 3 variables x, y and z, compute their average \n",
    "#and save it to variable avg3\n",
    "\n",
    "x = 2\n",
    "y = 7\n",
    "z = 18\n",
    "\n",
    "#Just sum up and divide by 3\n",
    "avg3 = (x + y + z) / 3\n",
    "\n",
    "print(\"Average = {}\".format(avg3))"
   ]
  },
  {
   "cell_type": "code",
   "execution_count": 12,
   "metadata": {},
   "outputs": [
    {
     "name": "stdout",
     "output_type": "stream",
     "text": [
      "4th digit is = 3\n",
      "3rd digit is = 7\n",
      "2nd digit is = 1\n",
      "1st digit is = 1\n"
     ]
    }
   ],
   "source": [
    "#3) Given a 4-digit number (none of the digits\n",
    "#are 0), extract individual digits using modulo\n",
    "#and integer division operations\n",
    "\n",
    "#We can use integer division and modulo operators to access\n",
    "#individual digits\n",
    "\n",
    "#We can get the last digits by doing % 10,\n",
    "#and we can shift the number to the right by doing // 10\n",
    "#We can use //= to shift and save it to the same variable\n",
    "#This is called augmented assignment\n",
    "#https://www.python.org/dev/peps/pep-0203/\n",
    "\n",
    "num4 = 1173\n",
    "\n",
    "print(\"4th digit is = {}\".format(num4 % 10))\n",
    "num4 //= 10\n",
    "print(\"3rd digit is = {}\".format(num4 % 10))\n",
    "num4 //= 10\n",
    "print(\"2nd digit is = {}\".format(num4 % 10))\n",
    "num4 //= 10\n",
    "print(\"1st digit is = {}\".format(num4 % 10))"
   ]
  },
  {
   "cell_type": "code",
   "execution_count": 16,
   "metadata": {},
   "outputs": [
    {
     "name": "stdout",
     "output_type": "stream",
     "text": [
      "First name: Ivan\n",
      "Last name: Ivanov\n",
      "Hello, Ivan Ivanov!\n"
     ]
    }
   ],
   "source": [
    "#4) Ask a user for their first and last names, then show a message in\n",
    "#the form of \"Hello, First_Name Last_Name!\"\n",
    "#(use string formatting)\n",
    "\n",
    "fn, ln = input(\"First name: \"), input(\"Last name: \")\n",
    "print(\"Hello, {} {}!\".format(fn, ln))"
   ]
  },
  {
   "cell_type": "code",
   "execution_count": 17,
   "metadata": {},
   "outputs": [
    {
     "name": "stdout",
     "output_type": "stream",
     "text": [
      "A: 12\n",
      "B: 2\n",
      "Area is 24.0\n"
     ]
    }
   ],
   "source": [
    "#5) Ask a user for leghts of 2 sides of a rectangle, then compute and show\n",
    "#its area\n",
    "\n",
    "#Fist, ask for the lengths:\n",
    "a, b = input(\"A: \"), input(\"B: \")\n",
    "\n",
    "#Convert into floats\n",
    "a,b = float(a), float(b)\n",
    "\n",
    "#Multiply\n",
    "s = a * b\n",
    "\n",
    "print(\"Area is\", s)"
   ]
  },
  {
   "cell_type": "code",
   "execution_count": null,
   "metadata": {},
   "outputs": [],
   "source": []
  }
 ],
 "metadata": {
  "kernelspec": {
   "display_name": "Python 3",
   "language": "python",
   "name": "python3"
  },
  "language_info": {
   "codemirror_mode": {
    "name": "ipython",
    "version": 3
   },
   "file_extension": ".py",
   "mimetype": "text/x-python",
   "name": "python",
   "nbconvert_exporter": "python",
   "pygments_lexer": "ipython3",
   "version": "3.7.4"
  }
 },
 "nbformat": 4,
 "nbformat_minor": 2
}
