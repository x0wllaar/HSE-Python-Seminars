{
 "cells": [
  {
   "cell_type": "markdown",
   "metadata": {},
   "source": [
    "### Environment\n",
    "\n",
    "The environmment we are using is called Jupyter Notebook.\n",
    "\n",
    "The basic unit of code or text in this environment is a _cell_.\n",
    "\n",
    "Both the code and the results are saved in an .ipynb files (which is just a JSON files actually).\n",
    "\n",
    "This is a Markdown cell, which are used to show text with markdown formatting. \n",
    "\n",
    "Below is a code cell, which are used to write and run code:"
   ]
  },
  {
   "cell_type": "code",
   "execution_count": 100,
   "metadata": {},
   "outputs": [
    {
     "data": {
      "text/plain": [
       "4"
      ]
     },
     "execution_count": 100,
     "metadata": {},
     "output_type": "execute_result"
    }
   ],
   "source": [
    "2 ** 10\n",
    "2 + 2"
   ]
  },
  {
   "cell_type": "markdown",
   "metadata": {},
   "source": [
    "As you can see, Jupyter will automatically show the result of the **last** expression in a cell\n",
    "\n",
    "Now, we can start programming"
   ]
  },
  {
   "cell_type": "markdown",
   "metadata": {},
   "source": [
    "### Comments:\n",
    "\n",
    "Are one of the most imprtant things in programming. They are used to describe what the code is doing to both future you and other people. **Please**, comment your code."
   ]
  },
  {
   "cell_type": "code",
   "execution_count": 16,
   "metadata": {},
   "outputs": [],
   "source": [
    "#This is a comment in Python\n",
    "#They start with # and end with the line\n",
    "#USE THEM"
   ]
  },
  {
   "cell_type": "markdown",
   "metadata": {},
   "source": [
    "### Basic arithmetic operators:"
   ]
  },
  {
   "cell_type": "code",
   "execution_count": 3,
   "metadata": {},
   "outputs": [
    {
     "data": {
      "text/plain": [
       "4"
      ]
     },
     "execution_count": 3,
     "metadata": {},
     "output_type": "execute_result"
    }
   ],
   "source": [
    "#Python has various math operators\n",
    "\n",
    "#Addition\n",
    "2 + 2"
   ]
  },
  {
   "cell_type": "code",
   "execution_count": 6,
   "metadata": {},
   "outputs": [
    {
     "data": {
      "text/plain": [
       "3"
      ]
     },
     "execution_count": 6,
     "metadata": {},
     "output_type": "execute_result"
    }
   ],
   "source": [
    "#Subtraction\n",
    "5 - 2"
   ]
  },
  {
   "cell_type": "code",
   "execution_count": 8,
   "metadata": {},
   "outputs": [
    {
     "data": {
      "text/plain": [
       "6"
      ]
     },
     "execution_count": 8,
     "metadata": {},
     "output_type": "execute_result"
    }
   ],
   "source": [
    "#Multiplication\n",
    "2 * 3"
   ]
  },
  {
   "cell_type": "code",
   "execution_count": 9,
   "metadata": {},
   "outputs": [
    {
     "data": {
      "text/plain": [
       "2.0"
      ]
     },
     "execution_count": 9,
     "metadata": {},
     "output_type": "execute_result"
    }
   ],
   "source": [
    "#Division (note the .0 in the result)\n",
    "10 / 5"
   ]
  },
  {
   "cell_type": "code",
   "execution_count": 11,
   "metadata": {},
   "outputs": [
    {
     "data": {
      "text/plain": [
       "2"
      ]
     },
     "execution_count": 11,
     "metadata": {},
     "output_type": "execute_result"
    }
   ],
   "source": [
    "#Integer division \n",
    "#(will ignore the remainder and return only the integer part)\n",
    "#note the absense of .0\n",
    "11 // 5"
   ]
  },
  {
   "cell_type": "code",
   "execution_count": 12,
   "metadata": {},
   "outputs": [
    {
     "data": {
      "text/plain": [
       "1"
      ]
     },
     "execution_count": 12,
     "metadata": {},
     "output_type": "execute_result"
    }
   ],
   "source": [
    "#Modulo (remainder)\n",
    "11 % 5"
   ]
  },
  {
   "cell_type": "code",
   "execution_count": 13,
   "metadata": {},
   "outputs": [
    {
     "data": {
      "text/plain": [
       "1024"
      ]
     },
     "execution_count": 13,
     "metadata": {},
     "output_type": "execute_result"
    }
   ],
   "source": [
    "#Power\n",
    "2 ** 10"
   ]
  },
  {
   "cell_type": "markdown",
   "metadata": {},
   "source": [
    "You can use python as a calculator that knows about the order of operations"
   ]
  },
  {
   "cell_type": "code",
   "execution_count": 17,
   "metadata": {},
   "outputs": [
    {
     "data": {
      "text/plain": [
       "6"
      ]
     },
     "execution_count": 17,
     "metadata": {},
     "output_type": "execute_result"
    }
   ],
   "source": [
    "2 + 2 * 2"
   ]
  },
  {
   "cell_type": "markdown",
   "metadata": {},
   "source": [
    "### Variables:\n",
    "\n",
    "Most of the time, you will need to save values instead of just showing them on the screen.\n",
    "\n",
    "This is why python has variables. (Variables in python use what is called \"duck typing\", which we will get to later)"
   ]
  },
  {
   "cell_type": "code",
   "execution_count": 32,
   "metadata": {},
   "outputs": [],
   "source": [
    "#Variables can contain integers\n",
    "intVar = 10\n",
    "\n",
    "#Floats (floating-point numbers used to denote fractions)\n",
    "floatVar = 3.14159265\n",
    "\n",
    "#Strings\n",
    "stringVar = \"Hello, World\"\n",
    "\n",
    "#And infinitely many other objects"
   ]
  },
  {
   "cell_type": "markdown",
   "metadata": {},
   "source": [
    "### Input-output (user interaction)"
   ]
  },
  {
   "cell_type": "code",
   "execution_count": 21,
   "metadata": {},
   "outputs": [
    {
     "name": "stdout",
     "output_type": "stream",
     "text": [
      "Hello, World\n",
      "This is a literal\n",
      "2.3\n"
     ]
    }
   ],
   "source": [
    "#print() function can be used to output \n",
    "#objects and variables of different types to the screen\n",
    "\n",
    "#Note that we can print multiple things from a single cell\n",
    "#This is because print() does not return anything, it just prints the \n",
    "#to the screen\n",
    "\n",
    "print(stringVar)\n",
    "print(\"This is a literal\")\n",
    "print(floatVar)"
   ]
  },
  {
   "cell_type": "code",
   "execution_count": 24,
   "metadata": {},
   "outputs": [
    {
     "name": "stdout",
     "output_type": "stream",
     "text": [
      "Hello, World 2.3 10\n",
      "Hello, World🐍2.3🐍10🔥\n"
     ]
    }
   ],
   "source": [
    "#You can print many things at once\n",
    "print(stringVar, floatVar, intVar)\n",
    "\n",
    "#You can control both what's in between the values and at the end of the line\n",
    "#Also, Python3 supports Unicode by default\n",
    "\n",
    "print(stringVar, floatVar, intVar, sep = \"🐍\", end = \"🔥\\n\")\n",
    "\n",
    "#There are more parameters for the print() function:\n",
    "# https://docs.python.org/3.7/library/functions.html#print"
   ]
  },
  {
   "cell_type": "code",
   "execution_count": 29,
   "metadata": {},
   "outputs": [
    {
     "name": "stdout",
     "output_type": "stream",
     "text": [
      "test\n",
      "You typed: test\n"
     ]
    },
    {
     "data": {
      "text/plain": [
       "str"
      ]
     },
     "execution_count": 29,
     "metadata": {},
     "output_type": "execute_result"
    }
   ],
   "source": [
    "#We can also ask the user for input\n",
    "#input() function is used for this\n",
    "#Juputer will show us a fancy prompt for this,\n",
    "#In the terminal, it won't be so fancy\n",
    "\n",
    "\n",
    "userInput = input()\n",
    "print(\"You typed:\", userInput)\n",
    "#type() function shows us the type of an object\n",
    "type(userInput) #The input is always returned as a string"
   ]
  },
  {
   "cell_type": "code",
   "execution_count": 30,
   "metadata": {},
   "outputs": [
    {
     "name": "stdout",
     "output_type": "stream",
     "text": [
      "Enter something and press Enter:test\n",
      "You typed: test\n"
     ]
    }
   ],
   "source": [
    "#We can also use a prompt with this function\n",
    "userInput = input(\"Enter something and press Enter:\")\n",
    "print(\"You typed:\", userInput)"
   ]
  },
  {
   "cell_type": "markdown",
   "metadata": {},
   "source": [
    "### String formatting\n",
    "\n",
    "Sometimes you need to include some data into an existing text template. This is called string formatting.\n",
    "\n",
    "Python >=3.6 supports 3 methods of string formatting. I will show the 2 methods that are considered idiomatic today."
   ]
  },
  {
   "cell_type": "code",
   "execution_count": 40,
   "metadata": {},
   "outputs": [
    {
     "name": "stdout",
     "output_type": "stream",
     "text": [
      "This is an int 10 -- and this is a float 3.14159265\n",
      "Enter some text: text\n",
      "Your input is 'text'!\n",
      "\n",
      "Float\n",
      "without rounding: 3.14159265\n",
      "with rounding: 3.14\n"
     ]
    }
   ],
   "source": [
    "#.format()\n",
    "#This is the first method\n",
    "#It is supported in all versions of Python 3\n",
    "\n",
    "#We will and an int and a float into a string\n",
    "#{0} and {1} are called fields and they are \n",
    "#placeholders for your values\n",
    "#the numbers refer to the position of the argumnent in the\n",
    "#.format() call\n",
    "formatStringVar = \"This is an int {0} -- and this is a float {1}\"\n",
    "print(formatStringVar.format(intVar, floatVar))\n",
    "\n",
    "#The template can be created before the values,\n",
    "#Which can be formatted into it at a later point\n",
    "inputStringFormatVar = \"Your input is '{0}'!\"\n",
    "print(inputStringFormatVar.format(input(\"Enter some text: \")))\n",
    "\n",
    "#The fields also can contain what are called format specs\n",
    "#that control how the value is turned into a string\n",
    "#for example, we can use them to round floats\n",
    "roundFloatStringVar = \"Float\\nwithout rounding: {0}\\nwith rounding: {0:.2f}\"\n",
    "print(\"\") #Empty line\n",
    "print(roundFloatStringVar.format(floatVar))\n",
    "\n",
    "#String formatting in Python is very powerful and goes way beoynd the\n",
    "#scope of our classes! It is very useful, so I suggest you read more on\n",
    "#it at: \n",
    "#https://docs.python.org/3.7/library/string.html#format-string-syntax"
   ]
  },
  {
   "cell_type": "code",
   "execution_count": 81,
   "metadata": {},
   "outputs": [
    {
     "name": "stdout",
     "output_type": "stream",
     "text": [
      "This is an int 10 -- and this is a float 3.14159265\n",
      "\n",
      "\n",
      "Float\n",
      "without rounding: 3.14159265\n",
      "with rounding: 3.14\n"
     ]
    }
   ],
   "source": [
    "#f-strings (formatted string literals)\n",
    "\n",
    "#Sometimes including the name of the variable you need straight into\n",
    "#your template makes for a much more readable code\n",
    "#f-strings exist for this purpose\n",
    "\n",
    "#They are declared just like regular string literals but with f before the quotes\n",
    "#Then, variable names between { and } will be formatted in automatically\n",
    "print(f\"This is an int {intVar} -- and this is a float {floatVar}\")\n",
    "print(\"\\n\")\n",
    "\n",
    "#Format specs are also supported\n",
    "print(f\"Float\\nwithout rounding: {floatVar}\\nwith rounding: {floatVar:.2f}\")\n",
    "\n",
    "#You can read more on this at\n",
    "#https://www.python.org/dev/peps/pep-0498/"
   ]
  },
  {
   "cell_type": "markdown",
   "metadata": {},
   "source": [
    "### Type conversions"
   ]
  },
  {
   "cell_type": "code",
   "execution_count": 97,
   "metadata": {},
   "outputs": [
    {
     "name": "stdout",
     "output_type": "stream",
     "text": [
      "Decimal int: 150\n",
      "Decimal int: 150\n",
      "Binary int: 1024\n",
      "Hexadecimal int: 3405705229\n",
      "Hexadecimal int: 3405705229\n",
      "\n",
      "Float to int: 3\n",
      "\n",
      "ord(): 128013\n"
     ]
    }
   ],
   "source": [
    "#Converting any data type to an integer is done by the function int()\n",
    "#int(a)\n",
    "#if the type of a is string, then we can specify a base for the integer\n",
    "\n",
    "print(\"Decimal int:\", int(\"150\"))\n",
    "print(\"Decimal int:\", int(\"150\", 10))\n",
    "print(\"Binary int:\", int(\"10000000000\", 2))\n",
    "print(\"Hexadecimal int:\", int(\"0xCAFEF00D\", 16))\n",
    "print(\"Hexadecimal int:\", int(\"CAFEF00D\", 16))\n",
    "print(\"\")\n",
    "\n",
    "print(\"Float to int:\", int(3.1415))\n",
    "print(\"\")\n",
    "\n",
    "#function ord() converts a Unicode character into its code as an it\n",
    "print(\"ord():\", ord(\"🐍\"))"
   ]
  },
  {
   "cell_type": "code",
   "execution_count": 89,
   "metadata": {},
   "outputs": [
    {
     "name": "stdout",
     "output_type": "stream",
     "text": [
      "Float from string 3.1415926\n",
      "Float from int 10.0\n"
     ]
    }
   ],
   "source": [
    "#Converting any data type to a float\n",
    "#function float()\n",
    "\n",
    "print(\"Float from string\", float(\"3.1415926\"))\n",
    "print(\"Float from int\", float(10)) #note the .0"
   ]
  },
  {
   "cell_type": "code",
   "execution_count": 98,
   "metadata": {},
   "outputs": [
    {
     "name": "stdout",
     "output_type": "stream",
     "text": [
      "str(): 255\n",
      "hex(): 0xff\n",
      "oct(): 0o377\n",
      "chr(): 🐍\n"
     ]
    }
   ],
   "source": [
    "#Converting int to a string\n",
    "\n",
    "#str() converts int into a string with the decimal representation\n",
    "print(\"str():\", str(0xFF))\n",
    "\n",
    "#hex() converts int into a string with the hexadecimal representation\n",
    "print(\"hex():\", hex(255))\n",
    "\n",
    "#oct() converts int into a string with the octal representation\n",
    "print(\"oct():\", oct(255))\n",
    "\n",
    "#chr() converts int into a unicode character (inverse of ord())\n",
    "print(\"chr():\", chr(128013))"
   ]
  },
  {
   "cell_type": "markdown",
   "metadata": {},
   "source": [
    "### Some excercises"
   ]
  },
  {
   "cell_type": "code",
   "execution_count": 45,
   "metadata": {},
   "outputs": [],
   "source": [
    "#1) Given 2 variables a and b, exchange their values\n",
    "#a) With a 3rd temporary variable\n",
    "#b) Without a 3rd variable (multiple assignment)\n",
    "\n",
    "a = 3\n",
    "b = 14"
   ]
  },
  {
   "cell_type": "code",
   "execution_count": 46,
   "metadata": {},
   "outputs": [],
   "source": [
    "#2) Given 3 variables x, y and z, compute their average \n",
    "#and save it to variable avg3\n",
    "\n",
    "x = 2\n",
    "y = 7\n",
    "z = 18"
   ]
  },
  {
   "cell_type": "code",
   "execution_count": 59,
   "metadata": {},
   "outputs": [],
   "source": [
    "#3) Given a 4-digit number (none of the digits\n",
    "#are 0), extract individual digits using modulo\n",
    "#and integer division operations\n",
    "\n",
    "num4 = 1173"
   ]
  },
  {
   "cell_type": "code",
   "execution_count": 60,
   "metadata": {},
   "outputs": [],
   "source": [
    "#4) Ask a user for their first and last names, then show a message in\n",
    "#the form of \"Hello, First_Name Last_Name!\"\n",
    "#(use string formatting)"
   ]
  },
  {
   "cell_type": "code",
   "execution_count": null,
   "metadata": {},
   "outputs": [],
   "source": [
    "#5) Ask a user for leghts of 2 sides of a rectangle, then compute and show\n",
    "#its area"
   ]
  }
 ],
 "metadata": {
  "kernelspec": {
   "display_name": "Python 3",
   "language": "python",
   "name": "python3"
  },
  "language_info": {
   "codemirror_mode": {
    "name": "ipython",
    "version": 3
   },
   "file_extension": ".py",
   "mimetype": "text/x-python",
   "name": "python",
   "nbconvert_exporter": "python",
   "pygments_lexer": "ipython3",
   "version": "3.7.4"
  }
 },
 "nbformat": 4,
 "nbformat_minor": 2
}
