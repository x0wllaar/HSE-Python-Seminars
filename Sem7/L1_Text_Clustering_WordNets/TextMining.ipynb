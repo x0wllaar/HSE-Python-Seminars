{
 "cells": [
  {
   "cell_type": "code",
   "execution_count": null,
   "metadata": {},
   "outputs": [],
   "source": [
    "#!pip install pymorphy2 ratelimit\n",
    "#!pip install pymorphy2[fast]\n",
    "#!pip install wordcloud\n",
    "#!pip install transliterate"
   ]
  },
  {
   "cell_type": "code",
   "execution_count": 2,
   "metadata": {},
   "outputs": [],
   "source": [
    "#These are very useful for data analysis!\n",
    "import numpy as np\n",
    "import pandas as pd\n",
    "\n",
    "#This is for working with raw Russian texts\n",
    "import pymorphy2\n",
    "import nltk\n",
    "\n",
    "#This is for talking to the web\n",
    "import requests\n",
    "import ratelimit\n",
    "import json\n",
    "from bs4 import BeautifulSoup\n",
    "import unicodedata\n",
    "import re\n",
    "\n",
    "#This is for us to create a word cloud\n",
    "import wordcloud\n",
    "import matplotlib.pyplot as plt\n",
    "from matplotlib.colors import ListedColormap\n",
    "%matplotlib inline\n",
    "\n",
    "#Text vectorization\n",
    "from sklearn.feature_extraction.text import CountVectorizer\n",
    "from sklearn.feature_extraction.text import TfidfVectorizer\n",
    "\n",
    "#Text clustering\n",
    "from sklearn.metrics import pairwise_distances\n",
    "from sklearn.metrics import silhouette_score\n",
    "from sklearn.manifold import MDS\n",
    "from sklearn.cluster import MiniBatchKMeans\n",
    "from sklearn.cluster import DBSCAN\n",
    "\n",
    "#Networks\n",
    "import transliterate\n",
    "import networkx as nx\n",
    "import gc"
   ]
  },
  {
   "cell_type": "code",
   "execution_count": null,
   "metadata": {},
   "outputs": [],
   "source": [
    "@ratelimit.limits(calls = 5, period=1)\n",
    "def riaParser(nArt = 100):\n",
    "    procArt = 0\n",
    "    reqURL = \"https://ria.ru/services/ria_ru/widget/more.html\"\n",
    "    while procArt < nArt:\n",
    "        apiR = requests.get(reqURL)\n",
    "        if apiR.status_code != 200:\n",
    "            raise ValueError(\"API request returned bad status code \" + str(r.status_code))\n",
    "        if apiR.text == \"\":\n",
    "            raise ValueError(\"API request returned an empty response\")\n",
    "        \n",
    "        newsURLs = re.findall(\"\\/\\d{8}\\/\\d*?\\.html\", apiR.text)\n",
    "        \n",
    "        nextURL = re.findall(\"/services/ria_ru/widget/more\\.html.*?type=lenta\", apiR.text)[-1]\n",
    "        nextURL = \"https://ria.ru\" + nextURL\n",
    "        nextURL = nextURL.replace(\"&amp;\", \"&\")\n",
    "        \n",
    "        for url in newsURLs:\n",
    "            fullURL = \"https://ria.ru\" + url\n",
    "            artR = requests.get(fullURL)\n",
    "            if artR.status_code != 200:\n",
    "                raise ValueError(\"API request returned bad status code \" + str(r.status_code))\n",
    "            if artR.text == \"\":\n",
    "                raise ValueError(\"API request returned an empty response\")\n",
    "            \n",
    "            artSoup = BeautifulSoup(artR.text)\n",
    "            artTextDivs = artSoup.findAll(attrs={\"class\" : \"article__block\"})\n",
    "            artText = \"\"\n",
    "            for div in artTextDivs:\n",
    "                if len(div.findAll(\"script\")) > 0:\n",
    "                    continue\n",
    "                artText += div.text + \"\\n\"\n",
    "                \n",
    "            artText = unicodedata.normalize(\"NFKC\", artText)\n",
    "            \n",
    "            if procArt < nArt:\n",
    "                yield artText\n",
    "                procArt += 1\n",
    "            else:\n",
    "                break\n",
    "        reqURL = nextURL"
   ]
  },
  {
   "cell_type": "code",
   "execution_count": null,
   "metadata": {},
   "outputs": [],
   "source": [
    "for text in riaParser(2):\n",
    "    print(text)\n",
    "    print(\"\\n====\")"
   ]
  },
  {
   "cell_type": "code",
   "execution_count": null,
   "metadata": {},
   "outputs": [],
   "source": [
    "texts = [text for text in riaParser(200)]\n",
    "texts[0]"
   ]
  },
  {
   "cell_type": "code",
   "execution_count": null,
   "metadata": {},
   "outputs": [],
   "source": [
    "#tokenizer = nltk.tokenize.RegexpTokenizer(\"\\w+\")\n",
    "tokenizer = nltk.tokenize.RegexpTokenizer(\"[а-яА-Яa-zA-Z]+\")\n",
    "tokenizedTexts = [tokenizer.tokenize(text) for text in texts]\n",
    "\"|\".join(tokenizedTexts[0])"
   ]
  },
  {
   "cell_type": "code",
   "execution_count": null,
   "metadata": {},
   "outputs": [],
   "source": [
    "morphA = pymorphy2.MorphAnalyzer()\n",
    "normalizedTexts = []\n",
    "for tokens in tokenizedTexts:\n",
    "    normalizedText = [morphA.parse(token)[0].normal_form for token in tokens]\n",
    "    normalizedTexts.append(normalizedText)\n",
    "\"|\".join(normalizedTexts[0])"
   ]
  },
  {
   "cell_type": "code",
   "execution_count": null,
   "metadata": {},
   "outputs": [],
   "source": [
    "stopwords = open(\"stopwords.txt\", encoding=\"utf8\").read().split()\n",
    "stopwords = set(stopwords)\n",
    "\n",
    "stopwords.add(\"риа\")\n",
    "stopwords.add(\"новость\")\n",
    "stopwords.add(\"фотобанк\")\n",
    "\n",
    "swTexts = []\n",
    "for words in normalizedTexts:\n",
    "    goodWords = [word for word in words if word not in stopwords]\n",
    "    swTexts.append(goodWords)\n",
    "\"|\".join(swTexts[0])"
   ]
  },
  {
   "cell_type": "code",
   "execution_count": null,
   "metadata": {},
   "outputs": [],
   "source": [
    "dtm1fact = CountVectorizer()\n",
    "dtm1 = dtm1fact.fit_transform([\" \".join(text) for text in swTexts])\n",
    "\"%d documnets, %d terms\" % dtm1.shape"
   ]
  },
  {
   "cell_type": "code",
   "execution_count": null,
   "metadata": {},
   "outputs": [],
   "source": [
    "wordfreq = pd.DataFrame(np.sum(dtm1, axis=0).T, index=dtm1fact.get_feature_names(), columns = ['count'])\n",
    "wordfreq.sort_values(by=['count'], ascending=False).head(10)"
   ]
  },
  {
   "cell_type": "code",
   "execution_count": null,
   "metadata": {},
   "outputs": [],
   "source": [
    "dtm2fact = TfidfVectorizer()\n",
    "dtm2 = dtm2fact.fit_transform([\" \".join(text) for text in swTexts])\n",
    "\"%d documnets, %d terms\" % dtm2.shape"
   ]
  },
  {
   "cell_type": "code",
   "execution_count": null,
   "metadata": {},
   "outputs": [],
   "source": [
    "wordtfidf = pd.DataFrame(np.mean(dtm2, axis=0).T, index=dtm2fact.get_feature_names(), columns = ['score'])\n",
    "wordtfidf.sort_values(by=['score'], ascending=False).head(10)"
   ]
  },
  {
   "cell_type": "code",
   "execution_count": null,
   "metadata": {},
   "outputs": [],
   "source": [
    "cloud1 = wordcloud.WordCloud(background_color=\"white\", width = 4*400, height = 3*400)\n",
    "cloud1.fit_words(wordtfidf.to_dict()[\"score\"])\n",
    "\n",
    "plt.figure(figsize = (4*3, 3*3))\n",
    "plt.axis(\"off\")\n",
    "plt.imshow(cloud1, interpolation=\"bicubic\", aspect='auto')"
   ]
  },
  {
   "cell_type": "code",
   "execution_count": null,
   "metadata": {},
   "outputs": [],
   "source": [
    "dist = pairwise_distances(dtm2, metric = \"cosine\")\n",
    "distEmbed = MDS(dissimilarity='precomputed', metric=False)\n",
    "distCoords = distEmbed.fit_transform(dist)\n",
    "\n",
    "plt.axis(\"on\")\n",
    "plt.scatter(distCoords[:,0], distCoords[:,1])"
   ]
  },
  {
   "cell_type": "code",
   "execution_count": null,
   "metadata": {},
   "outputs": [],
   "source": [
    "cluNums = []\n",
    "cluScores = []\n",
    "for nc in range(2, 100):\n",
    "    clustT = MiniBatchKMeans(n_clusters = nc)\n",
    "    clustersT = clustT.fit_predict(dtm2)\n",
    "    scoreT = silhouette_score(dtm2, clustersT)\n",
    "    cluNums.append(nc)\n",
    "    cluScores.append(scoreT)\n",
    "plt.plot(cluNums, cluScores)"
   ]
  },
  {
   "cell_type": "code",
   "execution_count": null,
   "metadata": {},
   "outputs": [],
   "source": [
    "clust = MiniBatchKMeans(n_clusters = 30)\n",
    "clusters = clust.fit_predict(dist)\n",
    "plt.axis(\"on\")\n",
    "plt.scatter(distCoords[:,0], distCoords[:,1], c=clusters, cmap=\"tab20\")"
   ]
  },
  {
   "cell_type": "code",
   "execution_count": null,
   "metadata": {},
   "outputs": [],
   "source": [
    "clusterN, counts = np.unique(clusters, return_counts=True)\n",
    "dict(zip(clusterN, counts))"
   ]
  },
  {
   "cell_type": "code",
   "execution_count": null,
   "metadata": {},
   "outputs": [],
   "source": [
    "cluster = 20\n",
    "textN = np.random.choice(np.where(clusters == cluster)[0], 3)[0]\n",
    "texts[textN]"
   ]
  },
  {
   "cell_type": "code",
   "execution_count": null,
   "metadata": {},
   "outputs": [],
   "source": [
    "clustNP = DBSCAN(eps = 0.7, metric = \"precomputed\")\n",
    "clustersNP = clustNP.fit_predict(dist)\n",
    "plt.scatter(distCoords[:,0], distCoords[:,1], c=clustersNP, cmap=\"tab20\")"
   ]
  },
  {
   "cell_type": "code",
   "execution_count": null,
   "metadata": {},
   "outputs": [],
   "source": [
    "clusterNNP, countsNP = np.unique(clustersNP, return_counts=True)\n",
    "dict(zip(clusterNNP, countsNP))"
   ]
  },
  {
   "cell_type": "code",
   "execution_count": null,
   "metadata": {},
   "outputs": [],
   "source": [
    "cluster = 10\n",
    "textN = np.random.choice(np.where(clustersNP == cluster)[0], 3)[0]\n",
    "texts[textN]"
   ]
  },
  {
   "cell_type": "code",
   "execution_count": null,
   "metadata": {},
   "outputs": [],
   "source": [
    "#Networks\n",
    "wordNames = [transliterate.translit(word, language_code='ru', reversed=True) for word in dtm2fact.get_feature_names()]\n",
    "wordNames = [re.sub(r'\\W+', '', word) for word in wordNames]\n",
    "\n",
    "wordNetM = np.matmul(dtm2.todense().T, dtm2.todense())\n",
    "nodeNamesMap = dict(zip(range(0, len(wordNames)), wordNames))\n",
    "\n",
    "wordNet = nx.from_numpy_matrix(wordNetM)\n",
    "nx.relabel_nodes(wordNet, nodeNamesMap, copy = False)\n",
    "\n",
    "nx.write_pajek(wordNet, \"wordnet.net\")\n",
    "\n",
    "wordNet = None\n",
    "wordNetM = None\n",
    "nodeNamesMap = None\n",
    "gc.collect()"
   ]
  },
  {
   "cell_type": "code",
   "execution_count": 1,
   "metadata": {},
   "outputs": [
    {
     "ename": "NameError",
     "evalue": "name 'nx' is not defined",
     "output_type": "error",
     "traceback": [
      "\u001b[1;31m---------------------------------------------------------------------------\u001b[0m",
      "\u001b[1;31mNameError\u001b[0m                                 Traceback (most recent call last)",
      "\u001b[1;32m<ipython-input-1-52a4fab14cb3>\u001b[0m in \u001b[0;36m<module>\u001b[1;34m\u001b[0m\n\u001b[1;32m----> 1\u001b[1;33m \u001b[0mcentDict\u001b[0m \u001b[1;33m=\u001b[0m \u001b[0mnx\u001b[0m\u001b[1;33m.\u001b[0m\u001b[0mbetweenness_centrality\u001b[0m\u001b[1;33m(\u001b[0m\u001b[0mwordNet\u001b[0m\u001b[1;33m)\u001b[0m\u001b[1;33m\u001b[0m\u001b[1;33m\u001b[0m\u001b[0m\n\u001b[0m\u001b[0;32m      2\u001b[0m \u001b[0mcentDF\u001b[0m \u001b[1;33m=\u001b[0m \u001b[0mpd\u001b[0m\u001b[1;33m.\u001b[0m\u001b[0mDataFrame\u001b[0m\u001b[1;33m.\u001b[0m\u001b[0mfrom_dict\u001b[0m\u001b[1;33m(\u001b[0m\u001b[0mbtwDict\u001b[0m\u001b[1;33m,\u001b[0m \u001b[0morient\u001b[0m \u001b[1;33m=\u001b[0m \u001b[1;34m\"index\"\u001b[0m\u001b[1;33m,\u001b[0m \u001b[0mcolumns\u001b[0m \u001b[1;33m=\u001b[0m \u001b[1;33m[\u001b[0m\u001b[1;34m\"BTW\"\u001b[0m\u001b[1;33m]\u001b[0m\u001b[1;33m)\u001b[0m\u001b[1;33m\u001b[0m\u001b[1;33m\u001b[0m\u001b[0m\n\u001b[0;32m      3\u001b[0m \u001b[0mcentDF\u001b[0m\u001b[1;33m\u001b[0m\u001b[1;33m\u001b[0m\u001b[0m\n",
      "\u001b[1;31mNameError\u001b[0m: name 'nx' is not defined"
     ]
    }
   ],
   "source": []
  },
  {
   "cell_type": "code",
   "execution_count": null,
   "metadata": {},
   "outputs": [],
   "source": []
  },
  {
   "cell_type": "code",
   "execution_count": null,
   "metadata": {},
   "outputs": [],
   "source": []
  }
 ],
 "metadata": {
  "kernelspec": {
   "display_name": "Python 3",
   "language": "python",
   "name": "python3"
  },
  "language_info": {
   "codemirror_mode": {
    "name": "ipython",
    "version": 3
   },
   "file_extension": ".py",
   "mimetype": "text/x-python",
   "name": "python",
   "nbconvert_exporter": "python",
   "pygments_lexer": "ipython3",
   "version": "3.7.1"
  }
 },
 "nbformat": 4,
 "nbformat_minor": 2
}
