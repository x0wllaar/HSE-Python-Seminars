{
 "cells": [
  {
   "cell_type": "markdown",
   "metadata": {},
   "source": [
    "### Break and continue"
   ]
  },
  {
   "cell_type": "code",
   "execution_count": 9,
   "metadata": {},
   "outputs": [
    {
     "name": "stdout",
     "output_type": "stream",
     "text": [
      "0\n",
      "1\n",
      "2\n",
      "3\n",
      "4\n",
      "Breaking\n",
      "\n",
      "1\n",
      "5\n",
      "7\n"
     ]
    }
   ],
   "source": [
    "#When we are in a loop, sometimes\n",
    "#we want to stop it, or to to skip to the next iteration\n",
    "\n",
    "#break stops the loop\n",
    "for i in range(10):\n",
    "    if i == 5:\n",
    "        print(\"Breaking\")\n",
    "        break\n",
    "    print(i)\n",
    "print(\"\")\n",
    "\n",
    "#continue skips the current iteration\n",
    "for i in range(10):\n",
    "    if i % 2 == 0:\n",
    "        continue #if the number is even, we skip to the next iteration\n",
    "    if i % 3 == 0:\n",
    "        continue #if the number is divisible by 3, we skip\n",
    "    #if we didn't skip, we print\n",
    "    print(i)"
   ]
  },
  {
   "cell_type": "markdown",
   "metadata": {},
   "source": [
    "### While loop"
   ]
  },
  {
   "cell_type": "code",
   "execution_count": 10,
   "metadata": {},
   "outputs": [
    {
     "name": "stdout",
     "output_type": "stream",
     "text": [
      "0\n",
      "1\n",
      "2\n",
      "3\n",
      "4\n"
     ]
    }
   ],
   "source": [
    "#For loop iterates over an iterable\n",
    "#While loop executes statements when a condition is true\n",
    "\n",
    "a = 0\n",
    "while a < 5:\n",
    "    print(a)\n",
    "    a += 1"
   ]
  },
  {
   "cell_type": "code",
   "execution_count": 13,
   "metadata": {},
   "outputs": [],
   "source": [
    "#while True is an infinite loop\n",
    "#however, we can stopit with break\n",
    "\n",
    "a = 0\n",
    "while True:\n",
    "    a += 1\n",
    "    if a > 1000:\n",
    "        break"
   ]
  },
  {
   "cell_type": "markdown",
   "metadata": {},
   "source": [
    "### Conditionals"
   ]
  },
  {
   "cell_type": "code",
   "execution_count": 23,
   "metadata": {},
   "outputs": [
    {
     "name": "stdout",
     "output_type": "stream",
     "text": [
      "1\n",
      "2\n",
      "Buzz\n",
      "4\n",
      "Fizz\n",
      "Buzz\n",
      "7\n",
      "8\n",
      "Buzz\n",
      "Fizz\n",
      "11\n",
      "Buzz\n",
      "13\n",
      "14\n",
      "FizzBuzz\n",
      "16\n"
     ]
    }
   ],
   "source": [
    "#For conditionals, we can use if / else / elif\n",
    "#if condition:\n",
    "#    statement\n",
    "#elif other_condition:\n",
    "#    statement\n",
    "#else:\n",
    "#    statement\n",
    "\n",
    "for n in range(1,17):\n",
    "    if (n % 5 == 0) and (n % 3 == 0):\n",
    "        print(\"FizzBuzz\")\n",
    "    elif n % 5 == 0:\n",
    "        print(\"Fizz\")\n",
    "    elif n % 3 == 0:\n",
    "        print(\"Buzz\")\n",
    "    else:\n",
    "        print(n)"
   ]
  },
  {
   "cell_type": "markdown",
   "metadata": {},
   "source": [
    "### Working with exceptions"
   ]
  },
  {
   "cell_type": "code",
   "execution_count": 18,
   "metadata": {},
   "outputs": [
    {
     "ename": "ZeroDivisionError",
     "evalue": "division by zero",
     "output_type": "error",
     "traceback": [
      "\u001b[0;31m---------------------------------------------------------------------------\u001b[0m",
      "\u001b[0;31mZeroDivisionError\u001b[0m                         Traceback (most recent call last)",
      "\u001b[0;32m<ipython-input-18-18ecefb86f63>\u001b[0m in \u001b[0;36m<module>\u001b[0;34m\u001b[0m\n\u001b[1;32m      1\u001b[0m \u001b[0;31m#Sometimes, your prorams generate errors\u001b[0m\u001b[0;34m\u001b[0m\u001b[0;34m\u001b[0m\u001b[0;34m\u001b[0m\u001b[0m\n\u001b[0;32m----> 2\u001b[0;31m \u001b[0;36m1\u001b[0m \u001b[0;34m/\u001b[0m \u001b[0;36m0\u001b[0m\u001b[0;34m\u001b[0m\u001b[0;34m\u001b[0m\u001b[0m\n\u001b[0m",
      "\u001b[0;31mZeroDivisionError\u001b[0m: division by zero"
     ]
    }
   ],
   "source": [
    "#Sometimes, your prorams generate errors\n",
    "1 / 0"
   ]
  },
  {
   "cell_type": "code",
   "execution_count": 20,
   "metadata": {},
   "outputs": [
    {
     "ename": "Exception",
     "evalue": "This is fine!",
     "output_type": "error",
     "traceback": [
      "\u001b[0;31m---------------------------------------------------------------------------\u001b[0m",
      "\u001b[0;31mException\u001b[0m                                 Traceback (most recent call last)",
      "\u001b[0;32m<ipython-input-20-78c189a32c2f>\u001b[0m in \u001b[0;36m<module>\u001b[0;34m\u001b[0m\n\u001b[1;32m      2\u001b[0m \u001b[0;31m#We can create our own with Exception()\u001b[0m\u001b[0;34m\u001b[0m\u001b[0;34m\u001b[0m\u001b[0;34m\u001b[0m\u001b[0m\n\u001b[1;32m      3\u001b[0m \u001b[0;31m#And raise (generate) them with raise\u001b[0m\u001b[0;34m\u001b[0m\u001b[0;34m\u001b[0m\u001b[0;34m\u001b[0m\u001b[0m\n\u001b[0;32m----> 4\u001b[0;31m \u001b[0;32mraise\u001b[0m \u001b[0mException\u001b[0m\u001b[0;34m(\u001b[0m\u001b[0;34m\"This is fine!\"\u001b[0m\u001b[0;34m)\u001b[0m\u001b[0;34m\u001b[0m\u001b[0;34m\u001b[0m\u001b[0m\n\u001b[0m",
      "\u001b[0;31mException\u001b[0m: This is fine!"
     ]
    }
   ],
   "source": [
    "#In python, they are called exceptions\n",
    "#We can create our own with Exception()\n",
    "#And raise (generate) them with raise\n",
    "raise Exception(\"This is fine!\")"
   ]
  },
  {
   "cell_type": "code",
   "execution_count": 27,
   "metadata": {},
   "outputs": [
    {
     "name": "stdout",
     "output_type": "stream",
     "text": [
      "Something wrong happened\n"
     ]
    }
   ],
   "source": [
    "#We can catch and process them with try / except / finally\n",
    "try:\n",
    "    1 / 0\n",
    "except:\n",
    "    print(\"Something wrong happened\")"
   ]
  },
  {
   "cell_type": "code",
   "execution_count": 31,
   "metadata": {},
   "outputs": [
    {
     "name": "stdout",
     "output_type": "stream",
     "text": [
      "Cannot divide by 0\n"
     ]
    }
   ],
   "source": [
    "#We can choose what types of exceptions to catch\n",
    "try:\n",
    "    1 / 0\n",
    "    raise(Exception(\"AAAA\"))\n",
    "except ZeroDivisionError:\n",
    "    print(\"Cannot divide by 0\")\n",
    "except:\n",
    "    print(\"Something wrong happened\")"
   ]
  },
  {
   "cell_type": "code",
   "execution_count": 33,
   "metadata": {},
   "outputs": [
    {
     "ename": "Exception",
     "evalue": "AAAA",
     "output_type": "error",
     "traceback": [
      "\u001b[0;31m---------------------------------------------------------------------------\u001b[0m",
      "\u001b[0;31mException\u001b[0m                                 Traceback (most recent call last)",
      "\u001b[0;32m<ipython-input-33-7cf0f4d9e9d8>\u001b[0m in \u001b[0;36m<module>\u001b[0;34m\u001b[0m\n\u001b[1;32m      2\u001b[0m \u001b[0;31m#It goes up to be handled by a higher-level handler\u001b[0m\u001b[0;34m\u001b[0m\u001b[0;34m\u001b[0m\u001b[0;34m\u001b[0m\u001b[0m\n\u001b[1;32m      3\u001b[0m \u001b[0;32mtry\u001b[0m\u001b[0;34m:\u001b[0m\u001b[0;34m\u001b[0m\u001b[0;34m\u001b[0m\u001b[0m\n\u001b[0;32m----> 4\u001b[0;31m     \u001b[0;32mraise\u001b[0m\u001b[0;34m(\u001b[0m\u001b[0mException\u001b[0m\u001b[0;34m(\u001b[0m\u001b[0;34m\"AAAA\"\u001b[0m\u001b[0;34m)\u001b[0m\u001b[0;34m)\u001b[0m\u001b[0;34m\u001b[0m\u001b[0;34m\u001b[0m\u001b[0m\n\u001b[0m\u001b[1;32m      5\u001b[0m \u001b[0;32mexcept\u001b[0m \u001b[0mZeroDivisionError\u001b[0m\u001b[0;34m:\u001b[0m\u001b[0;34m\u001b[0m\u001b[0;34m\u001b[0m\u001b[0m\n\u001b[1;32m      6\u001b[0m     \u001b[0mprint\u001b[0m\u001b[0;34m(\u001b[0m\u001b[0;34m\"Cannot divide by 0\"\u001b[0m\u001b[0;34m)\u001b[0m\u001b[0;34m\u001b[0m\u001b[0;34m\u001b[0m\u001b[0m\n",
      "\u001b[0;31mException\u001b[0m: AAAA"
     ]
    }
   ],
   "source": [
    "#If we don't catch an error\n",
    "#It goes up to be handled by a higher-level handler\n",
    "try:\n",
    "    raise(Exception(\"AAAA\"))\n",
    "except ZeroDivisionError:\n",
    "    print(\"Cannot divide by 0\")"
   ]
  },
  {
   "cell_type": "code",
   "execution_count": 34,
   "metadata": {},
   "outputs": [
    {
     "name": "stdout",
     "output_type": "stream",
     "text": [
      "This will be executed\n"
     ]
    },
    {
     "ename": "Exception",
     "evalue": "AAAA",
     "output_type": "error",
     "traceback": [
      "\u001b[0;31m---------------------------------------------------------------------------\u001b[0m",
      "\u001b[0;31mException\u001b[0m                                 Traceback (most recent call last)",
      "\u001b[0;32m<ipython-input-34-5f25aa45f611>\u001b[0m in \u001b[0;36m<module>\u001b[0;34m\u001b[0m\n\u001b[1;32m      2\u001b[0m \u001b[0;31m#in the try block that was not handled\u001b[0m\u001b[0;34m\u001b[0m\u001b[0;34m\u001b[0m\u001b[0;34m\u001b[0m\u001b[0m\n\u001b[1;32m      3\u001b[0m \u001b[0;32mtry\u001b[0m\u001b[0;34m:\u001b[0m\u001b[0;34m\u001b[0m\u001b[0;34m\u001b[0m\u001b[0m\n\u001b[0;32m----> 4\u001b[0;31m     \u001b[0;32mraise\u001b[0m\u001b[0;34m(\u001b[0m\u001b[0mException\u001b[0m\u001b[0;34m(\u001b[0m\u001b[0;34m\"AAAA\"\u001b[0m\u001b[0;34m)\u001b[0m\u001b[0;34m)\u001b[0m\u001b[0;34m\u001b[0m\u001b[0;34m\u001b[0m\u001b[0m\n\u001b[0m\u001b[1;32m      5\u001b[0m     \u001b[0mprint\u001b[0m\u001b[0;34m(\u001b[0m\u001b[0;34m\"This will not be executed\"\u001b[0m\u001b[0;34m)\u001b[0m\u001b[0;34m\u001b[0m\u001b[0;34m\u001b[0m\u001b[0m\n\u001b[1;32m      6\u001b[0m \u001b[0;32mexcept\u001b[0m \u001b[0mZeroDivisionError\u001b[0m\u001b[0;34m:\u001b[0m\u001b[0;34m\u001b[0m\u001b[0;34m\u001b[0m\u001b[0m\n",
      "\u001b[0;31mException\u001b[0m: AAAA"
     ]
    }
   ],
   "source": [
    "#the finally block gets executed even if an error was raised\n",
    "#in the try block that was not handled\n",
    "try:\n",
    "    raise(Exception(\"AAAA\"))\n",
    "    print(\"This will not be executed\")\n",
    "except ZeroDivisionError:\n",
    "    print(\"Cannot divide by 0\")\n",
    "finally:\n",
    "    print(\"This will be executed\")"
   ]
  },
  {
   "cell_type": "markdown",
   "metadata": {},
   "source": [
    "### Functions"
   ]
  },
  {
   "cell_type": "code",
   "execution_count": 37,
   "metadata": {},
   "outputs": [],
   "source": [
    "#Functions are created with a def keyword\n",
    "def fa():\n",
    "    pass\n",
    "#and can be called by their name followed by parentheses with arguments\n",
    "fa()"
   ]
  },
  {
   "cell_type": "code",
   "execution_count": 38,
   "metadata": {},
   "outputs": [
    {
     "data": {
      "text/plain": [
       "function"
      ]
     },
     "execution_count": 38,
     "metadata": {},
     "output_type": "execute_result"
    }
   ],
   "source": [
    "#functions are objects too!\n",
    "type(fa)"
   ]
  },
  {
   "cell_type": "code",
   "execution_count": 40,
   "metadata": {},
   "outputs": [
    {
     "name": "stdout",
     "output_type": "stream",
     "text": [
      "10 ** 2 = 100\n",
      "10 ** 2 = 100\n"
     ]
    }
   ],
   "source": [
    "#Functions can take arguments\n",
    "def fb(a):\n",
    "    print(\"{} ** 2 = {}\".format(a ,a ** 2))\n",
    "\n",
    "#Then, we can call them like that\n",
    "fb(10)\n",
    "\n",
    "#Or like that\n",
    "fb(a = 10)"
   ]
  },
  {
   "cell_type": "code",
   "execution_count": 51,
   "metadata": {},
   "outputs": [
    {
     "name": "stdout",
     "output_type": "stream",
     "text": [
      "a = 10, b = 20\n",
      "10 - 20 = -10\n",
      "\n",
      "a = 10, b = 20\n",
      "10 - 20 = -10\n",
      "\n",
      "a = 10, b = 20\n",
      "10 - 20 = -10\n",
      "\n",
      "a = 20, b = 10\n",
      "20 - 10 = 10\n",
      "\n",
      "a = 20, b = 10\n",
      "20 - 10 = 10\n",
      "\n"
     ]
    },
    {
     "ename": "TypeError",
     "evalue": "fc() missing 2 required positional arguments: 'a' and 'b'",
     "output_type": "error",
     "traceback": [
      "\u001b[0;31m---------------------------------------------------------------------------\u001b[0m",
      "\u001b[0;31mTypeError\u001b[0m                                 Traceback (most recent call last)",
      "\u001b[0;32m<ipython-input-51-a282a7824248>\u001b[0m in \u001b[0;36m<module>\u001b[0;34m\u001b[0m\n\u001b[1;32m     22\u001b[0m \u001b[0;31m#If we don't provide values for them,\u001b[0m\u001b[0;34m\u001b[0m\u001b[0;34m\u001b[0m\u001b[0;34m\u001b[0m\u001b[0m\n\u001b[1;32m     23\u001b[0m \u001b[0;31m#We get an error\u001b[0m\u001b[0;34m\u001b[0m\u001b[0;34m\u001b[0m\u001b[0;34m\u001b[0m\u001b[0m\n\u001b[0;32m---> 24\u001b[0;31m \u001b[0mfc\u001b[0m\u001b[0;34m(\u001b[0m\u001b[0;34m)\u001b[0m\u001b[0;34m\u001b[0m\u001b[0;34m\u001b[0m\u001b[0m\n\u001b[0m",
      "\u001b[0;31mTypeError\u001b[0m: fc() missing 2 required positional arguments: 'a' and 'b'"
     ]
    }
   ],
   "source": [
    "#Functions can take multiple arguments\n",
    "def fc(a,b):\n",
    "    print(\"a = {}, b = {}\".format(a, b))\n",
    "    print(\"{} - {} = {}\".format(a,b,a-b))\n",
    "    print(\"\")\n",
    "    \n",
    "#Then, we can call them like that\n",
    "fc(10, 20)\n",
    "\n",
    "#Or like that\n",
    "fc(a = 10, b = 20)\n",
    "\n",
    "#The order for keyword arguments does not matter\n",
    "fc(b = 20, a = 10)\n",
    "\n",
    "#It does for positional arguments\n",
    "fc(20, 10)\n",
    "\n",
    "#We can mix positional and keyword arguments\n",
    "fc(20, b = 10)\n",
    "\n",
    "#If we don't provide values for them,\n",
    "#We get an error\n",
    "fc()"
   ]
  },
  {
   "cell_type": "code",
   "execution_count": 54,
   "metadata": {},
   "outputs": [
    {
     "name": "stdout",
     "output_type": "stream",
     "text": [
      "a = 20, b = 10\n",
      "20 + 10 = 30\n",
      "\n",
      "a = 20, b = 50\n",
      "20 + 50 = 70\n",
      "\n",
      "a = 30, b = 10\n",
      "30 + 10 = 40\n",
      "\n",
      "a = 10, b = 10\n",
      "10 + 10 = 20\n",
      "\n"
     ]
    }
   ],
   "source": [
    "#Arguments to functions can have default values\n",
    "def fd(a = 20, b = 10):\n",
    "    print(\"a = {}, b = {}\".format(a, b))\n",
    "    print(\"{} + {} = {}\".format(a,b,a+b))\n",
    "    print(\"\")\n",
    "\n",
    "#If we don't provide values for such arguments when calling a function\n",
    "#The default values will be used\n",
    "fd()\n",
    "\n",
    "#We can then provide not all of the argumnets\n",
    "fd(b = 50)\n",
    "fd(a = 30)\n",
    "\n",
    "#Or all of them\n",
    "fd(10,10)"
   ]
  },
  {
   "cell_type": "code",
   "execution_count": 56,
   "metadata": {},
   "outputs": [
    {
     "name": "stdout",
     "output_type": "stream",
     "text": [
      "a = 2, b = 3\n",
      "Function returned 8\n"
     ]
    }
   ],
   "source": [
    "#functions can also return values\n",
    "def fe(a, b):\n",
    "    print(\"a = {}, b = {}\".format(a, b))\n",
    "    return a ** b\n",
    "\n",
    "#those values can passed to other functions\n",
    "#or assigned to variables\n",
    "\n",
    "rfe = fe(2,3)\n",
    "print(\"Function returned {}\".format(rfe))"
   ]
  },
  {
   "cell_type": "code",
   "execution_count": 58,
   "metadata": {},
   "outputs": [
    {
     "name": "stdout",
     "output_type": "stream",
     "text": [
      "a = 10, b = 10\n",
      "Function returned 0 and 20\n"
     ]
    }
   ],
   "source": [
    "#functions can return multiple values at the same time\n",
    "def ff(a, b):\n",
    "    print(\"a = {}, b = {}\".format(a, b))\n",
    "    return (a-b, a+b)\n",
    "a1, b1 = ff(10,10)\n",
    "print(\"Function returned {} and {}\".format(a1, b1))"
   ]
  },
  {
   "cell_type": "code",
   "execution_count": 66,
   "metadata": {},
   "outputs": [
    {
     "name": "stdout",
     "output_type": "stream",
     "text": [
      "1000\n",
      "['AAAA']\n"
     ]
    },
    {
     "ename": "NameError",
     "evalue": "name 'variable' is not defined",
     "output_type": "error",
     "traceback": [
      "\u001b[0;31m---------------------------------------------------------------------------\u001b[0m",
      "\u001b[0;31mNameError\u001b[0m                                 Traceback (most recent call last)",
      "\u001b[0;32m<ipython-input-66-8ff87d614956>\u001b[0m in \u001b[0;36m<module>\u001b[0;34m\u001b[0m\n\u001b[1;32m     26\u001b[0m \u001b[0mprint\u001b[0m\u001b[0;34m(\u001b[0m\u001b[0ma\u001b[0m\u001b[0;34m)\u001b[0m\u001b[0;34m\u001b[0m\u001b[0;34m\u001b[0m\u001b[0m\n\u001b[1;32m     27\u001b[0m \u001b[0mprint\u001b[0m\u001b[0;34m(\u001b[0m\u001b[0mlistA\u001b[0m\u001b[0;34m)\u001b[0m\u001b[0;34m\u001b[0m\u001b[0;34m\u001b[0m\u001b[0m\n\u001b[0;32m---> 28\u001b[0;31m \u001b[0mprint\u001b[0m\u001b[0;34m(\u001b[0m\u001b[0mvariable\u001b[0m\u001b[0;34m)\u001b[0m \u001b[0;31m#this will error out\u001b[0m\u001b[0;34m\u001b[0m\u001b[0;34m\u001b[0m\u001b[0m\n\u001b[0m\u001b[1;32m     29\u001b[0m \u001b[0;34m\u001b[0m\u001b[0m\n\u001b[1;32m     30\u001b[0m \u001b[0;31m#PLEASE, DO NOT MODIFY GLOBAL VARIABLES\u001b[0m\u001b[0;34m\u001b[0m\u001b[0;34m\u001b[0m\u001b[0;34m\u001b[0m\u001b[0m\n",
      "\u001b[0;31mNameError\u001b[0m: name 'variable' is not defined"
     ]
    }
   ],
   "source": [
    "#functions can interact with the global state\n",
    "listA = []\n",
    "a = 0\n",
    "def fg(x):\n",
    "    #When we assign a variable, it is assigned\n",
    "    #LOCALLY, i.e. only the code in the function\n",
    "    #has access to it\n",
    "    #this is called scoping\n",
    "    variable = 1000 # this is local\n",
    "    \n",
    "    #if we assign a value to a varible that exists \n",
    "    #in the global scope, a new local variable will be\n",
    "    #created\n",
    "    #a = 1000 #this is still local\n",
    "    \n",
    "    #We can tell python that we need to access the global\n",
    "    #scope with the keyword global\n",
    "    global a\n",
    "    a = 1000 #This will modify the global state\n",
    "    \n",
    "    #when we try to access a object\n",
    "    #python first tries to find it in the local scope\n",
    "    #if it is not found, it searches for it in the global scope\n",
    "    listA.append(\"AAAA\") #this will modify global scope\n",
    "fg(0)\n",
    "print(a)\n",
    "print(listA)\n",
    "print(variable) #this will error out\n",
    "\n",
    "#PLEASE, DO NOT MODIFY GLOBAL VARIABLES\n",
    "#THIS WILL DESTROY YOU"
   ]
  },
  {
   "cell_type": "code",
   "execution_count": 68,
   "metadata": {},
   "outputs": [
    {
     "name": "stdout",
     "output_type": "stream",
     "text": [
      "fj (fh) = 8\n",
      "fj (fh) = 9\n"
     ]
    }
   ],
   "source": [
    "#functions are object, so functions can be arguments to other\n",
    "#functions\n",
    "\n",
    "def fh(a, b):\n",
    "    return a + b\n",
    "\n",
    "def fi(a, b):\n",
    "    return a * b\n",
    "\n",
    "def fj(a, b, f):\n",
    "    return f(a, b) + 3\n",
    "\n",
    "print(\"fj (fh) =\", fj(2,3,fh))\n",
    "print(\"fj (fh) =\", fj(2,3,fi))"
   ]
  },
  {
   "cell_type": "code",
   "execution_count": 70,
   "metadata": {},
   "outputs": [
    {
     "name": "stdout",
     "output_type": "stream",
     "text": [
      "add3(3) = 6\n"
     ]
    }
   ],
   "source": [
    "#functions can return functions too\n",
    "def fk(a):\n",
    "    def adder(b):\n",
    "        return a + b\n",
    "    return adder\n",
    "\n",
    "add3 = fk(3)\n",
    "print(\"add3(3) =\", add3(3))"
   ]
  },
  {
   "cell_type": "code",
   "execution_count": 71,
   "metadata": {},
   "outputs": [],
   "source": [
    "#decorators"
   ]
  },
  {
   "cell_type": "code",
   "execution_count": 72,
   "metadata": {},
   "outputs": [],
   "source": [
    "#generators"
   ]
  },
  {
   "cell_type": "code",
   "execution_count": null,
   "metadata": {},
   "outputs": [],
   "source": []
  },
  {
   "cell_type": "code",
   "execution_count": 1,
   "metadata": {},
   "outputs": [],
   "source": [
    "#1) Write a function that\n",
    "#   a) takes in a number and prints its square\n",
    "#   b) takes in a number and returns its square\n",
    "#   c) takes in a number prints and returns its square"
   ]
  },
  {
   "cell_type": "code",
   "execution_count": 2,
   "metadata": {},
   "outputs": [],
   "source": [
    "#2) Write a function that takes in a number a\n",
    "#   and returns a tuple of (a - 1, a + 1)"
   ]
  },
  {
   "cell_type": "code",
   "execution_count": 3,
   "metadata": {},
   "outputs": [],
   "source": [
    "#3) Write a function that takes in a \n",
    "#   sentence and returns a list of words in UPPERCASE"
   ]
  },
  {
   "cell_type": "code",
   "execution_count": 4,
   "metadata": {},
   "outputs": [],
   "source": [
    "#4) Write a generator that takes in a\n",
    "#   list of numbers and allows you to\n",
    "#   iterate over their squares"
   ]
  },
  {
   "cell_type": "code",
   "execution_count": 5,
   "metadata": {},
   "outputs": [],
   "source": [
    "#5) Write a function that takes in 2 lists\n",
    "#   and returns a dictionary where the elements of the\n",
    "#   first list are keys and the elements of the second\n",
    "#   list are values. Raise an exception of the lists are \n",
    "#   of different lenghts"
   ]
  },
  {
   "cell_type": "code",
   "execution_count": null,
   "metadata": {},
   "outputs": [],
   "source": []
  }
 ],
 "metadata": {
  "kernelspec": {
   "display_name": "Python 3",
   "language": "python",
   "name": "python3"
  },
  "language_info": {
   "codemirror_mode": {
    "name": "ipython",
    "version": 3
   },
   "file_extension": ".py",
   "mimetype": "text/x-python",
   "name": "python",
   "nbconvert_exporter": "python",
   "pygments_lexer": "ipython3",
   "version": "3.7.4"
  }
 },
 "nbformat": 4,
 "nbformat_minor": 2
}
