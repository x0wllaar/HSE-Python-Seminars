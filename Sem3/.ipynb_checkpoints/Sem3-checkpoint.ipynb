{
 "cells": [
  {
   "cell_type": "markdown",
   "metadata": {},
   "source": [
    "### List comprehensions"
   ]
  },
  {
   "cell_type": "code",
   "execution_count": 8,
   "metadata": {},
   "outputs": [
    {
     "name": "stdout",
     "output_type": "stream",
     "text": [
      "A = [0, 1, 2, 3, 4, 5, 6, 7, 8, 9, 10]\n",
      "B = [0, 1, 4, 9, 16, 25, 36, 49, 64, 81, 100]\n",
      "C = [0, 1, 4, 9, 16, 25, 36, 49, 64, 81, 100]\n"
     ]
    }
   ],
   "source": [
    "#Let's say that we have a list of numbers called A and we\n",
    "#want to create a list B containing the squared elemnts of A\n",
    "\n",
    "A = list(range(11))\n",
    "print(f\"A = {A}\")\n",
    "\n",
    "#We can do it this way:\n",
    "B = []\n",
    "for e in A:\n",
    "    B.append(e ** 2)\n",
    "print(f\"B = {B}\")\n",
    "\n",
    "#This, however, look bulky and unreadable\n",
    "#There is another way that look much better\n",
    "#and is considered idiomatic:\n",
    "\n",
    "C = [e ** 2 for e in A]\n",
    "print(f\"C = {C}\")"
   ]
  },
  {
   "cell_type": "code",
   "execution_count": 12,
   "metadata": {},
   "outputs": [
    {
     "name": "stdout",
     "output_type": "stream",
     "text": [
      "B2 = [0, 4, 16, 36, 64, 100]\n",
      "C2 = [0, 4, 16, 36, 64, 100]\n"
     ]
    }
   ],
   "source": [
    "#Let's say that we want to do this only with numbers that are even\n",
    "\n",
    "#Can do this with a loop\n",
    "B2 = []\n",
    "for e in A:\n",
    "    if e % 2 == 0:\n",
    "        B2.append(e ** 2)\n",
    "print(f\"B2 = {B2}\")\n",
    "\n",
    "#We can also do this with a comprehension in\n",
    "#a much more compact way:\n",
    "C2 = [e ** 2 for e in A if e % 2 == 0]\n",
    "print(f\"C2 = {C2}\")\n",
    "\n",
    "#This is very useful for filtering lists"
   ]
  },
  {
   "cell_type": "markdown",
   "metadata": {},
   "source": [
    "### Working with strings"
   ]
  },
  {
   "cell_type": "code",
   "execution_count": 17,
   "metadata": {},
   "outputs": [
    {
     "name": "stdout",
     "output_type": "stream",
     "text": [
      "Split string = ['A', 'B', 'C', 'D', 'E', 'F']\n",
      "Split string = ['A', 'B', 'C', 'D', 'E', 'F']\n",
      "Split string = ['A', 'B', 'C', 'D', 'E', 'F']\n"
     ]
    }
   ],
   "source": [
    "#.split() method\n",
    "#Splits a string into a list of strings\n",
    "#by a separator, which can be a character or a sequence \n",
    "#of characters\n",
    "\n",
    "#Splitting on a sigle character\n",
    "S = \"A,B,C,D,E,F\"\n",
    "splitS = S.split(\",\")\n",
    "print(\"Split string =\", splitS)\n",
    "\n",
    "#Splitting on mulitple characters\n",
    "S2 = \"A, B, C, D, E, F\"\n",
    "splitS2 = S2.split(\", \")\n",
    "print(\"Split string =\", splitS2)\n",
    "\n",
    "#By default, it splits on a whitespace\n",
    "S3 = \"A B C D E F\"\n",
    "splitS3 = S3.split()\n",
    "print(\"Split string =\", splitS3)"
   ]
  },
  {
   "cell_type": "code",
   "execution_count": 3,
   "metadata": {},
   "outputs": [
    {
     "name": "stdout",
     "output_type": "stream",
     "text": [
      "Joined list = A_B_C_D_E_F\n",
      "Joined list = A|-|B|-|C|-|D|-|E|-|F\n"
     ]
    }
   ],
   "source": [
    "#.join() method\n",
    "#Joins a list of strings into one string with\n",
    "#a separator in between the elements\n",
    "#separator can be a single character or a sequence\n",
    "\n",
    "# \"separator\".join(list)\n",
    "\n",
    "L = ['A', 'B', 'C', 'D', 'E', 'F']\n",
    "\n",
    "#Join with a single character\n",
    "joinedL = \"_\".join(L)\n",
    "print(\"Joined list =\" , joinedL)\n",
    "\n",
    "#Join with multiple charactes\n",
    "joinedL2 = \"|-|\".join(L)\n",
    "print(\"Joined list =\" , joinedL2)\n"
   ]
  },
  {
   "cell_type": "code",
   "execution_count": 7,
   "metadata": {},
   "outputs": [
    {
     "name": "stdout",
     "output_type": "stream",
     "text": [
      "Stripped string = test\n",
      "Stripped string = test\n"
     ]
    }
   ],
   "source": [
    "#.strip() methof\n",
    "#Removes characters from the beginning and end of a string\n",
    "\n",
    "S4 = \"$$$test$$$\"\n",
    "\n",
    "strippedS4 = S4.strip(\"$\")\n",
    "print(\"Stripped string =\", strippedS4)\n",
    "\n",
    "#By default, it strips whitespace characters\n",
    "\n",
    "S5 = \"     test  \"\n",
    "strippedS5 = S5.strip()\n",
    "print(\"Stripped string =\", strippedS5)"
   ]
  },
  {
   "cell_type": "markdown",
   "metadata": {},
   "source": [
    "### Some excercises"
   ]
  },
  {
   "cell_type": "code",
   "execution_count": 8,
   "metadata": {},
   "outputs": [],
   "source": [
    "#1) Ask the user for a full name (ФИО in Russian) separated by whitespace\n",
    "#Then, print all the parts of the name on separate lines, like\n",
    "#First name:\n",
    "#Last name:\n",
    "#Patronymic:"
   ]
  },
  {
   "cell_type": "code",
   "execution_count": 9,
   "metadata": {},
   "outputs": [],
   "source": [
    "#2)Ask the user for a list of numbers separated by \"; \"\n",
    "#return a list of ints, then return a list of floats\n",
    "#on input (1; 2; 3; 4;) the code shoud return\n",
    "#[1, 2, 3, 4]\n",
    "#[1.0, 2.0, 3.0, 4.0]\n",
    "#hint: use list comprehensions"
   ]
  },
  {
   "cell_type": "code",
   "execution_count": 10,
   "metadata": {},
   "outputs": [],
   "source": [
    "#3)Ask the user for a phone number separated by hyphens (-)\n",
    "#Return the number without hyphens or spaces\n",
    "#1-2-3-4-5 -> 12345"
   ]
  },
  {
   "cell_type": "code",
   "execution_count": 12,
   "metadata": {},
   "outputs": [],
   "source": [
    "#4)Given the list\n",
    "W = ['thE ', '  quIck  ', '  Brown ', 'foX  ', 'jumpS  ', 'Over  ', 'thE ', '    Lazy', 'dog  ']\n",
    "#Create a list Wclean where all the spaces were stripped and all\n",
    "#letters are in lower case\n",
    "\n",
    "#Then, create a string where all the words are separated by a signle space,\n",
    "#with a . in the end and the first letter in upper case\n",
    "#\"The quick brown fox jumps over the lazy dog\""
   ]
  },
  {
   "cell_type": "code",
   "execution_count": 13,
   "metadata": {},
   "outputs": [],
   "source": [
    "#5)Given the list LNum of numbers from 1 to 200, create a list of squares\n",
    "#of all numbers divisible by 7\n",
    "\n",
    "LNum = list(range(201))"
   ]
  },
  {
   "cell_type": "code",
   "execution_count": null,
   "metadata": {},
   "outputs": [],
   "source": []
  }
 ],
 "metadata": {
  "kernelspec": {
   "display_name": "Python 3",
   "language": "python",
   "name": "python3"
  },
  "language_info": {
   "codemirror_mode": {
    "name": "ipython",
    "version": 3
   },
   "file_extension": ".py",
   "mimetype": "text/x-python",
   "name": "python",
   "nbconvert_exporter": "python",
   "pygments_lexer": "ipython3",
   "version": "3.7.4"
  }
 },
 "nbformat": 4,
 "nbformat_minor": 2
}
