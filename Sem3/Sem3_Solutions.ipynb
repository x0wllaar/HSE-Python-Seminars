{
 "cells": [
  {
   "cell_type": "code",
   "execution_count": 1,
   "metadata": {},
   "outputs": [
    {
     "name": "stdout",
     "output_type": "stream",
     "text": [
      "Full name: Иванов Иван Иванович\n",
      "First name: Иван\n",
      "Last name: Иванов\n",
      "Patronymic: Иванович\n"
     ]
    }
   ],
   "source": [
    "#1) Ask the user for a full name (ФИО in Russian) separated by whitespace\n",
    "#Then, print all the parts of the name on separate lines, like\n",
    "#First name:\n",
    "#Last name:\n",
    "#Patronymic:\n",
    "\n",
    "#Ask for input\n",
    "uInput = input(\"Full name: \")\n",
    "\n",
    "#Separate into 3 variables by whitespace\n",
    "ln, fn, pa = uInput.split()\n",
    "\n",
    "#Print them\n",
    "print(\"First name:\", fn)\n",
    "print(\"Last name:\", ln)\n",
    "print(\"Patronymic:\", pa)"
   ]
  },
  {
   "cell_type": "code",
   "execution_count": 5,
   "metadata": {},
   "outputs": [
    {
     "name": "stdout",
     "output_type": "stream",
     "text": [
      "Numbers separated by '; ': 1; 2; 3; 4\n",
      "Ints: [1, 2, 3, 4]\n",
      "Floats: [1.0, 2.0, 3.0, 4.0]\n"
     ]
    }
   ],
   "source": [
    "#2)Ask the user for a list of numbers separated by \"; \"\n",
    "#return a list of ints, then return a list of floats\n",
    "#on input (1; 2; 3; 4) the code shoud return\n",
    "#[1, 2, 3, 4]\n",
    "#[1.0, 2.0, 3.0, 4.0]\n",
    "#hint: use list comprehensions\n",
    "\n",
    "#Ask for input\n",
    "uInput2 = input(\"Numbers separated by '; ': \")\n",
    "iStrList = uInput2.split(\"; \")\n",
    "\n",
    "print(\"Ints:\", [int(n) for n in iStrList])\n",
    "print(\"Floats:\", [float(n) for n in iStrList])"
   ]
  },
  {
   "cell_type": "code",
   "execution_count": 10,
   "metadata": {},
   "outputs": [
    {
     "name": "stdout",
     "output_type": "stream",
     "text": [
      "Phone number with hyphens: 111-222-333-666\n",
      "Clean phone 111222333666\n",
      "Clean phone 111222333666\n",
      "Clean phone 111222333666\n"
     ]
    }
   ],
   "source": [
    "#3)Ask the user for a phone number separated by hyphens (-)\n",
    "#Return the number without hyphens or spaces\n",
    "#1-2-3-4-5 -> 12345\n",
    "\n",
    "uInput3 = input(\"Phone number with hyphens: \")\n",
    "\n",
    "#1st way to do this\n",
    "#Split and join\n",
    "pList = uInput3.split(\"-\")\n",
    "cleanNum = \"\".join(pList)\n",
    "print(\"Clean phone\", cleanNum)\n",
    "\n",
    "#2nd way to do this\n",
    "#Filter with a list comprehension\n",
    "cleanNum2 = \"\".join([c for c in uInput3 if c != \"-\"])\n",
    "print(\"Clean phone\", cleanNum2)\n",
    "\n",
    "#3rd way to do this\n",
    "#.replace() hyphens with nothing\n",
    "cleanNum3 = uInput3.replace(\"-\", \"\")\n",
    "print(\"Clean phone\", cleanNum3)"
   ]
  },
  {
   "cell_type": "code",
   "execution_count": null,
   "metadata": {},
   "outputs": [],
   "source": []
  }
 ],
 "metadata": {
  "kernelspec": {
   "display_name": "Python 3",
   "language": "python",
   "name": "python3"
  },
  "language_info": {
   "codemirror_mode": {
    "name": "ipython",
    "version": 3
   },
   "file_extension": ".py",
   "mimetype": "text/x-python",
   "name": "python",
   "nbconvert_exporter": "python",
   "pygments_lexer": "ipython3",
   "version": "3.7.4"
  }
 },
 "nbformat": 4,
 "nbformat_minor": 2
}
