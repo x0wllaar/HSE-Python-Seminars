{
 "cells": [
  {
   "cell_type": "markdown",
   "metadata": {},
   "source": [
    "### Sets"
   ]
  },
  {
   "cell_type": "code",
   "execution_count": 3,
   "metadata": {},
   "outputs": [
    {
     "name": "stdout",
     "output_type": "stream",
     "text": [
      "setA=set()\n",
      "setA={'A'}\n",
      "setA={'A'}\n"
     ]
    }
   ],
   "source": [
    "#A set is an unordered collection of elements \n",
    "#where each element can be present at most once\n",
    "\n",
    "#To initialise a set\n",
    "setA = set()\n",
    "print(\"setA={}\".format(setA))\n",
    "\n",
    "#Let's add an element to this set\n",
    "#.add()\n",
    "setA.add(\"A\")\n",
    "print(\"setA={}\".format(setA))\n",
    "\n",
    "#If we add the same element again, nothing\n",
    "#will change\n",
    "setA.add(\"A\")\n",
    "print(\"setA={}\".format(setA))"
   ]
  },
  {
   "cell_type": "code",
   "execution_count": 6,
   "metadata": {},
   "outputs": [
    {
     "name": "stdout",
     "output_type": "stream",
     "text": [
      "setA={'C', 'B', 'A', 'D'}\n"
     ]
    }
   ],
   "source": [
    "#We can add a list to a set\n",
    "#.update() method\n",
    "setA.update([\"A\", \"B\", \"C\", \"D\"])\n",
    "print(\"setA={}\".format(setA))\n",
    "#The order may or may not be preserved"
   ]
  },
  {
   "cell_type": "code",
   "execution_count": 7,
   "metadata": {},
   "outputs": [
    {
     "ename": "TypeError",
     "evalue": "'set' object is not subscriptable",
     "output_type": "error",
     "traceback": [
      "\u001b[0;31m---------------------------------------------------------------------------\u001b[0m",
      "\u001b[0;31mTypeError\u001b[0m                                 Traceback (most recent call last)",
      "\u001b[0;32m<ipython-input-7-80ce85a78dcd>\u001b[0m in \u001b[0;36m<module>\u001b[0;34m\u001b[0m\n\u001b[1;32m      1\u001b[0m \u001b[0;31m#We cannot access invidual elemnts of a set\u001b[0m\u001b[0;34m\u001b[0m\u001b[0;34m\u001b[0m\u001b[0;34m\u001b[0m\u001b[0m\n\u001b[0;32m----> 2\u001b[0;31m \u001b[0msetA\u001b[0m\u001b[0;34m[\u001b[0m\u001b[0;36m0\u001b[0m\u001b[0;34m]\u001b[0m\u001b[0;34m\u001b[0m\u001b[0;34m\u001b[0m\u001b[0m\n\u001b[0m",
      "\u001b[0;31mTypeError\u001b[0m: 'set' object is not subscriptable"
     ]
    }
   ],
   "source": [
    "#We cannot access invidual elemnts of a set\n",
    "setA[0]"
   ]
  },
  {
   "cell_type": "code",
   "execution_count": 10,
   "metadata": {},
   "outputs": [
    {
     "name": "stdout",
     "output_type": "stream",
     "text": [
      "'A' in setA = True\n",
      "'B' in setA = True\n",
      "'X' in setA = False\n"
     ]
    }
   ],
   "source": [
    "#We can, however, test if something is in a set\n",
    "#using in keyword\n",
    "print(\"'A' in setA = {}\".format(\"A\" in setA))\n",
    "print(\"'B' in setA = {}\".format(\"B\" in setA))\n",
    "print(\"'X' in setA = {}\".format(\"X\" in setA))\n",
    "#This operation is fast (average case = Theta(1))"
   ]
  },
  {
   "cell_type": "code",
   "execution_count": 13,
   "metadata": {},
   "outputs": [
    {
     "name": "stdout",
     "output_type": "stream",
     "text": [
      "setB={'C', 'E', 'F', 'D'}\n"
     ]
    }
   ],
   "source": [
    "#We can create sets from lists\n",
    "#with set()\n",
    "setB = set([\"C\", \"D\", \"E\", \"F\"])\n",
    "print(\"setB={}\".format(setB))\n",
    "#Again, this can destroy the order of elements"
   ]
  },
  {
   "cell_type": "code",
   "execution_count": 24,
   "metadata": {},
   "outputs": [
    {
     "name": "stdout",
     "output_type": "stream",
     "text": [
      "A & B = {'C', 'D'}\n",
      "A | B = {'A', 'E', 'F', 'D', 'C', 'B'}\n",
      "A - B = {'B', 'A'}\n",
      "B - A = {'E', 'F'}\n",
      "A ^ B = {'A', 'E', 'F', 'B'}\n",
      "A >= B = False\n",
      "A <= B = False\n"
     ]
    }
   ],
   "source": [
    "#We can do set theory operations on\n",
    "#Python sets!\n",
    "\n",
    "print(\"A & B = {}\".format(setA & setB)) #intersection\n",
    "print(\"A | B = {}\".format(setA | setB)) #union\n",
    "\n",
    "print(\"A - B = {}\".format(setA - setB)) #difference\n",
    "print(\"B - A = {}\".format(setB - setA)) #difference\n",
    "\n",
    "print(\"A ^ B = {}\".format(setA ^ setB)) #symmetric difference\n",
    "\n",
    "print(\"A >= B = {}\".format(setA >= setB)) #is superset\n",
    "print(\"A <= B = {}\".format(setA <= setB)) #is subset"
   ]
  },
  {
   "cell_type": "code",
   "execution_count": 29,
   "metadata": {},
   "outputs": [
    {
     "name": "stdout",
     "output_type": "stream",
     "text": [
      "setC = {'A', 'G', 'E', 'F', 'D', 'C', 'B'}\n",
      "setClist = ['A', 'G', 'E', 'F', 'D', 'C', 'B']\n",
      "\n",
      "nUniqList=[1, 2, 3, 4, 1, 2, 3, 4, 1, 2, 3, 4]\n",
      "uniqList=[1, 2, 3, 4]\n"
     ]
    }
   ],
   "source": [
    "#We can trasform a list into a set\n",
    "setC = set([\"A\", \"B\", \"C\", \"D\", \"E\", \"F\", \"G\"])\n",
    "#and back\n",
    "setClist = list(setC)\n",
    "print(\"setC = {}\".format(setC))\n",
    "print(\"setClist = {}\".format(setClist))\n",
    "print(\"\")\n",
    "\n",
    "#We can use this to create a list of\n",
    "#unique elements (destroying the order)\n",
    "#with list(set())\n",
    "nUniqList = [1,2,3,4] * 3\n",
    "uniqList = list(set(nUniqList))\n",
    "print(\"nUniqList={}\".format(nUniqList))\n",
    "print(\"uniqList={}\".format(uniqList))"
   ]
  },
  {
   "cell_type": "markdown",
   "metadata": {},
   "source": [
    "### Tuples"
   ]
  },
  {
   "cell_type": "code",
   "execution_count": 30,
   "metadata": {},
   "outputs": [
    {
     "name": "stdout",
     "output_type": "stream",
     "text": [
      "tupleA=(1, 2, 3, 4, 5)\n"
     ]
    }
   ],
   "source": [
    "#Tuples are like lists, but immutable\n",
    "#This gives them some useful properties\n",
    "#(for example, they can be dictionary keys, \n",
    "#and members of sets)\n",
    "\n",
    "#They are declared like lists but with\n",
    "#round brackets\n",
    "\n",
    "tupleA = (1,2,3,4,5)\n",
    "print(\"tupleA={}\".format(tupleA))"
   ]
  },
  {
   "cell_type": "code",
   "execution_count": 33,
   "metadata": {},
   "outputs": [
    {
     "name": "stdout",
     "output_type": "stream",
     "text": [
      "Element 2 of tupleA = 3\n"
     ]
    },
    {
     "ename": "TypeError",
     "evalue": "'tuple' object does not support item assignment",
     "output_type": "error",
     "traceback": [
      "\u001b[0;31m---------------------------------------------------------------------------\u001b[0m",
      "\u001b[0;31mTypeError\u001b[0m                                 Traceback (most recent call last)",
      "\u001b[0;32m<ipython-input-33-be9e3b25509c>\u001b[0m in \u001b[0;36m<module>\u001b[0;34m\u001b[0m\n\u001b[1;32m      3\u001b[0m \u001b[0;34m\u001b[0m\u001b[0m\n\u001b[1;32m      4\u001b[0m \u001b[0;31m#But we can't set them\u001b[0m\u001b[0;34m\u001b[0m\u001b[0;34m\u001b[0m\u001b[0;34m\u001b[0m\u001b[0m\n\u001b[0;32m----> 5\u001b[0;31m \u001b[0mtupleA\u001b[0m\u001b[0;34m[\u001b[0m\u001b[0;36m2\u001b[0m\u001b[0;34m]\u001b[0m \u001b[0;34m=\u001b[0m \u001b[0;36m1000\u001b[0m\u001b[0;34m\u001b[0m\u001b[0;34m\u001b[0m\u001b[0m\n\u001b[0m",
      "\u001b[0;31mTypeError\u001b[0m: 'tuple' object does not support item assignment"
     ]
    }
   ],
   "source": [
    "#We can get elements for tuples\n",
    "print(\"Element 2 of tupleA = {}\".format(tupleA[2]))\n",
    "\n",
    "#But we can't set them\n",
    "tupleA[2] = 1000"
   ]
  },
  {
   "cell_type": "code",
   "execution_count": 34,
   "metadata": {},
   "outputs": [
    {
     "name": "stdout",
     "output_type": "stream",
     "text": [
      "1\n",
      "2\n",
      "3\n",
      "4\n",
      "5\n"
     ]
    }
   ],
   "source": [
    "#We can iterate over tuples as well\n",
    "for e in tupleA:\n",
    "    print(e)"
   ]
  },
  {
   "cell_type": "code",
   "execution_count": 35,
   "metadata": {},
   "outputs": [
    {
     "name": "stdout",
     "output_type": "stream",
     "text": [
      "listT = ['A', 'B', 'C', 'D', 'E', 'F', 'G']\n",
      "tupleT = ('A', 'B', 'C', 'D', 'E', 'F', 'G')\n"
     ]
    }
   ],
   "source": [
    "#We can trasform a list into a set\n",
    "listT = [\"A\", \"B\", \"C\", \"D\", \"E\", \"F\", \"G\"]\n",
    "#and back\n",
    "tupleT = tuple(listT)\n",
    "print(\"listT = {}\".format(listT))\n",
    "print(\"tupleT = {}\".format(tupleT))"
   ]
  },
  {
   "cell_type": "markdown",
   "metadata": {},
   "source": [
    "### Dictionaries"
   ]
  },
  {
   "cell_type": "code",
   "execution_count": 37,
   "metadata": {},
   "outputs": [
    {
     "name": "stdout",
     "output_type": "stream",
     "text": [
      "dictE={}\n",
      "dictA={'A': 1, 'B': 2, 'C': 3, 'D': 4}\n"
     ]
    }
   ],
   "source": [
    "#A dictionary is an object consisting\n",
    "#of key->vaule pairs\n",
    "#Keys in a dictionary form a SET, they\n",
    "#MUST be unique\n",
    "#Any hashable object can be a key\n",
    "#Any object can be a value\n",
    "\n",
    "#Dictionaries can be initialised with dict()\n",
    "dictE = dict() #empty dict\n",
    "print(\"dictE={}\".format(dictE))\n",
    "\n",
    "#Or with a dict literal\n",
    "dictA = {\n",
    "    \"A\": 1,\n",
    "    \"B\": 2,\n",
    "    \"C\": 3,\n",
    "    \"D\": 4\n",
    "}\n",
    "print(\"dictA={}\".format(dictA))"
   ]
  },
  {
   "cell_type": "code",
   "execution_count": 38,
   "metadata": {},
   "outputs": [
    {
     "name": "stdout",
     "output_type": "stream",
     "text": [
      "Element 'A' of dictA=1\n"
     ]
    }
   ],
   "source": [
    "#We can access individual elements of \n",
    "#a dictionaries by their keys\n",
    "print(\"Element 'A' of dictA={}\".format(dictA[\"A\"]))"
   ]
  },
  {
   "cell_type": "code",
   "execution_count": 39,
   "metadata": {},
   "outputs": [
    {
     "ename": "KeyError",
     "evalue": "'X'",
     "output_type": "error",
     "traceback": [
      "\u001b[0;31m---------------------------------------------------------------------------\u001b[0m",
      "\u001b[0;31mKeyError\u001b[0m                                  Traceback (most recent call last)",
      "\u001b[0;32m<ipython-input-39-c01c6e4c743e>\u001b[0m in \u001b[0;36m<module>\u001b[0;34m\u001b[0m\n\u001b[1;32m      2\u001b[0m \u001b[0;31m#in a dictionary, we get an exception\u001b[0m\u001b[0;34m\u001b[0m\u001b[0;34m\u001b[0m\u001b[0;34m\u001b[0m\u001b[0m\n\u001b[1;32m      3\u001b[0m \u001b[0;34m\u001b[0m\u001b[0m\n\u001b[0;32m----> 4\u001b[0;31m \u001b[0mprint\u001b[0m\u001b[0;34m(\u001b[0m\u001b[0mdictA\u001b[0m\u001b[0;34m[\u001b[0m\u001b[0;34m\"X\"\u001b[0m\u001b[0;34m]\u001b[0m\u001b[0;34m)\u001b[0m\u001b[0;34m\u001b[0m\u001b[0;34m\u001b[0m\u001b[0m\n\u001b[0m",
      "\u001b[0;31mKeyError\u001b[0m: 'X'"
     ]
    }
   ],
   "source": [
    "#If we try access a key that is not\n",
    "#in a dictionary, we get an exception\n",
    "\n",
    "print(dictA[\"X\"])"
   ]
  },
  {
   "cell_type": "code",
   "execution_count": 42,
   "metadata": {},
   "outputs": [
    {
     "name": "stdout",
     "output_type": "stream",
     "text": [
      "Element 'A' of dictA=1\n",
      "Element 'X' of dictA=None\n",
      "Element 'X' of dictA=DOES NOT EXIST\n"
     ]
    }
   ],
   "source": [
    "#We can use the\n",
    "#get() method\n",
    "#to avoid this behavour\n",
    "\n",
    "print(\"Element 'A' of dictA={}\".format(dictA.get(\"A\")))\n",
    "print(\"Element 'X' of dictA={}\".format(dictA.get(\"X\")))\n",
    "\n",
    "#We can set a default value that is\n",
    "#returned by get if an element does not\n",
    "#exist\n",
    "\n",
    "print(\"Element 'X' of dictA={}\".format(dictA.get(\"X\", \"DOES NOT EXIST\")))"
   ]
  },
  {
   "cell_type": "code",
   "execution_count": 45,
   "metadata": {},
   "outputs": [
    {
     "name": "stdout",
     "output_type": "stream",
     "text": [
      "'A' in dictA = True\n",
      "'X' in dictA = False\n"
     ]
    }
   ],
   "source": [
    "#We can also test if an element \n",
    "#is in a dictionary with in keyword\n",
    "\n",
    "print(\"'A' in dictA = {}\".format(\"A\" in dictA))\n",
    "print(\"'X' in dictA = {}\".format(\"X\" in dictA))"
   ]
  },
  {
   "cell_type": "code",
   "execution_count": 69,
   "metadata": {},
   "outputs": [
    {
     "name": "stdout",
     "output_type": "stream",
     "text": [
      "Element 'A' of dictA=1000\n",
      "Element 'X' of dictA=2000\n",
      "Element 'A' of dictA=1000\n",
      "Element 'X' of dictA=None\n"
     ]
    }
   ],
   "source": [
    "#We can set individual elements\n",
    "\n",
    "#If an element is present, it is replaced\n",
    "dictA[\"A\"] = 1000\n",
    "\n",
    "#If an element is not present, it is created\n",
    "dictA[\"X\"] = 2000\n",
    "\n",
    "print(\"Element 'A' of dictA={}\".format(dictA.get(\"A\")))\n",
    "print(\"Element 'X' of dictA={}\".format(dictA.get(\"X\")))\n",
    "\n",
    "#We can delete keys with del keyword\n",
    "del dictA[\"X\"]\n",
    "print(\"Element 'A' of dictA={}\".format(dictA.get(\"A\")))\n",
    "print(\"Element 'X' of dictA={}\".format(dictA.get(\"X\")))"
   ]
  },
  {
   "cell_type": "code",
   "execution_count": 51,
   "metadata": {},
   "outputs": [
    {
     "name": "stdout",
     "output_type": "stream",
     "text": [
      "A => 1000\n",
      "B => 2\n",
      "C => 3\n",
      "D => 4\n",
      "X => 2000\n",
      "\n",
      "1000\n",
      "2\n",
      "3\n",
      "4\n",
      "2000\n",
      "\n",
      "A => 1000\n",
      "B => 2\n",
      "C => 3\n",
      "D => 4\n",
      "X => 2000\n"
     ]
    }
   ],
   "source": [
    "#We can iterate over dictionaries too\n",
    "\n",
    "#By default, we iterate over keys\n",
    "for key in dictA:\n",
    "    print(\"{} => {}\".format(key, dictA[key]))\n",
    "print(\"\")\n",
    "\n",
    "#We can also iterate over values\n",
    "#using the .values() method\n",
    "for v in dictA.values():\n",
    "    print(v)\n",
    "print(\"\")\n",
    "\n",
    "#And over key,value pairs\n",
    "#using .items()\n",
    "for k,v in dictA.items():\n",
    "    print(\"{} => {}\".format(k,v))"
   ]
  },
  {
   "cell_type": "code",
   "execution_count": 52,
   "metadata": {},
   "outputs": [
    {
     "name": "stdout",
     "output_type": "stream",
     "text": [
      "dictKVP = {1: 100, 2: 200, 3: 300, 4: 400}\n"
     ]
    }
   ],
   "source": [
    "#We can also create dicts from\n",
    "#lists of (key, value) tuples\n",
    "\n",
    "listKV = [(1,100), (2,200), (3,300), (4,400)]\n",
    "dictKVP = dict(listKV)\n",
    "print(\"dictKVP = {}\".format(dictKVP))"
   ]
  },
  {
   "cell_type": "code",
   "execution_count": null,
   "metadata": {},
   "outputs": [],
   "source": []
  },
  {
   "cell_type": "markdown",
   "metadata": {},
   "source": [
    "### zip and enumerate"
   ]
  },
  {
   "cell_type": "code",
   "execution_count": 57,
   "metadata": {},
   "outputs": [
    {
     "name": "stdout",
     "output_type": "stream",
     "text": [
      "type of zip = <class 'zip'>\n",
      "listZ = [('A', 1), ('B', 2), ('C', 3), ('D', 4), ('E', 5)]\n",
      "dictZ = {'A': 1, 'B': 2, 'C': 3, 'D': 4, 'E': 5}\n"
     ]
    }
   ],
   "source": [
    "#Using zip() we can convert 2 lists\n",
    "#into a single collection of pairs of their\n",
    "#values\n",
    "\n",
    "listZA = [\"A\", \"B\", \"C\", \"D\", \"E\"]\n",
    "listZB = [ 1,   2,   3,   4,   5]\n",
    "\n",
    "zipA = zip(listZA, listZB)\n",
    "#zip objects are NOT lists\n",
    "print(\"type of zip = {}\".format(type(zipA)))\n",
    "\n",
    "#We can convert them into lists of tuples\n",
    "listZ = list(zipA)\n",
    "print(\"listZ = {}\".format(listZ))\n",
    "\n",
    "#And we can converts these lists into dicts\n",
    "dictZ = dict(listZ)\n",
    "\n",
    "print(\"dictZ = {}\".format(dictZ))"
   ]
  },
  {
   "cell_type": "code",
   "execution_count": 59,
   "metadata": {},
   "outputs": [
    {
     "name": "stdout",
     "output_type": "stream",
     "text": [
      "type of zip = <class 'enumerate'>\n",
      "listE = [(0, 'A'), (1, 'B'), (2, 'C'), (3, 'D'), (4, 'E')]\n"
     ]
    }
   ],
   "source": [
    "#enumerate() functon creates collentions\n",
    "#pairs (index_of_element,element)\n",
    "listEA = [\"A\", \"B\", \"C\", \"D\", \"E\"]\n",
    "\n",
    "enumA = enumerate(listEA)\n",
    "#enumerate objects are NOT lists\n",
    "print(\"type of zip = {}\".format(type(enumA)))\n",
    "\n",
    "#We can convert them into lists of tuples\n",
    "listE = list(enumA)\n",
    "print(\"listE = {}\".format(listE))"
   ]
  },
  {
   "cell_type": "code",
   "execution_count": 68,
   "metadata": {},
   "outputs": [
    {
     "name": "stdout",
     "output_type": "stream",
     "text": [
      "Iteration over zip():\n",
      "A => 1\n",
      "B => 2\n",
      "C => 3\n",
      "D => 4\n",
      "E => 5\n",
      "\n",
      "Iteration over enumerate():\n",
      "0 => A\n",
      "1 => B\n",
      "2 => C\n",
      "3 => D\n",
      "4 => E\n"
     ]
    }
   ],
   "source": [
    "#We can iterate over both zip() and enumerate()\n",
    "#objects\n",
    "\n",
    "print(\"Iteration over zip():\")\n",
    "for a, b in zip(listZA, listZB):\n",
    "    print(\"{} => {}\".format(a,b))\n",
    "print(\"\")\n",
    "\n",
    "print(\"Iteration over enumerate():\")\n",
    "for a, b in enumerate(listEA):\n",
    "    print(\"{} => {}\".format(a,b))"
   ]
  },
  {
   "cell_type": "markdown",
   "metadata": {},
   "source": [
    "### Some excerises"
   ]
  },
  {
   "cell_type": "code",
   "execution_count": 70,
   "metadata": {},
   "outputs": [],
   "source": [
    "#Given a dictionary dA\n",
    "dA = {\"A\": 1, \"B\":2, \"C\":3, \"Da\":4}\n",
    "\n",
    "#1)Add a pair with key X and value 31415\n",
    "#2)Change the dictionary so it has a D->4 pair instead of Da->4\n",
    "#3)For each pair, print a message that says \"key\" is \"value\""
   ]
  },
  {
   "cell_type": "code",
   "execution_count": 71,
   "metadata": {},
   "outputs": [],
   "source": [
    "#Given a list of countries\n",
    "cList = [\"Russia\", \"Angola\", \"Chad\", \"USA\", \"Belarus\", \"Sealand\"]\n",
    "\n",
    "#And a dictionaty of Country -> GDP per capita\n",
    "cDict = {\n",
    "    \"Chad\":2415,\n",
    "    \"USA\":62606,\n",
    "    \"Russia\":29267,\n",
    "    \"Belarus\":20003,\n",
    "    \"Ukraine\":9283\n",
    "}\n",
    "\n",
    "#1)For all countries in the list, print messages in the format of\n",
    "#  PPP GDP per capita of {COUNTRY} in 2018 in int$ is {AMOUNT}\n",
    "#  if the country is not in the list, print UNKNOWN instead of amount\n",
    "\n",
    "#2)Print a list of countries present in the dictionary\n",
    "#  with their GDPpc >= 20000 int$\n",
    "\n",
    "#3) Create 2 lists, developed and developing\n",
    "#   put names of countries with their GDPpc >= 20000 int$ in the developed list\n",
    "#   put all other contries into the developing list"
   ]
  },
  {
   "cell_type": "code",
   "execution_count": 72,
   "metadata": {},
   "outputs": [],
   "source": [
    "#Given 2 lists: \n",
    "dKeyL = [\"A\", \"B\", \"C\", \"D\", \"E\", \"F\"]\n",
    "dValL = [1,2,3,4,5,6]\n",
    "\n",
    "#Create a dictionary with the elemnets of the first\n",
    "#list being the keys and\n",
    "#elements of the 2nd list being the values\n",
    "#A -> 1\n",
    "#B -> 2\n",
    "#and so on"
   ]
  },
  {
   "cell_type": "code",
   "execution_count": 73,
   "metadata": {},
   "outputs": [],
   "source": [
    "#Given a list of pairs of numbers (a,b)\n",
    "dPairL = [(2,4), (3,2), (8,3), (10,4), (2,10)]\n",
    "#create a dictionary of pairs such that\n",
    "#(a,b) -> a ** b\n",
    "#(2,4) -> 16\n",
    "#and so on"
   ]
  },
  {
   "cell_type": "code",
   "execution_count": 74,
   "metadata": {},
   "outputs": [],
   "source": [
    "#With sets, find if a list has non-unique elemnets\n",
    "#[1,1,2,3,4] -> true\n",
    "#[1,2,3,4,5] -> false"
   ]
  },
  {
   "cell_type": "code",
   "execution_count": null,
   "metadata": {},
   "outputs": [],
   "source": []
  }
 ],
 "metadata": {
  "kernelspec": {
   "display_name": "Python 3",
   "language": "python",
   "name": "python3"
  },
  "language_info": {
   "codemirror_mode": {
    "name": "ipython",
    "version": 3
   },
   "file_extension": ".py",
   "mimetype": "text/x-python",
   "name": "python",
   "nbconvert_exporter": "python",
   "pygments_lexer": "ipython3",
   "version": "3.7.4"
  }
 },
 "nbformat": 4,
 "nbformat_minor": 2
}
