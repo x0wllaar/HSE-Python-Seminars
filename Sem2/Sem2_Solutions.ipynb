{
 "cells": [
  {
   "cell_type": "code",
   "execution_count": 8,
   "metadata": {},
   "outputs": [
    {
     "name": "stdout",
     "output_type": "stream",
     "text": [
      "3rd elem of ListA is 2\n",
      "\n",
      "ListA before [0, 1, 2, 3, 4, 5, 6, 7, 8, 9]\n",
      "ListA after [0, 1, 2, 3, 4, 5, 6, 7, 8, 9, 100]\n",
      "\n",
      "ListA before [0, 1, 2, 3, 4, 5, 6, 7, 8, 9, 100]\n",
      "ListA after [0, 1, 2, 3, 4, 5, 0, 7, 8, 9, 100]\n",
      "\n",
      "ListA before [0, 1, 2, 3, 4, 5, 0, 7, 8, 9, 100]\n",
      "ListA after [0, 1, 2, 3, 4, 5, 0, 7, 8, 9, 100, 'A', 'B', 'C']\n",
      "\n",
      "ListA before [0, 1, 2, 3, 4, 5, 0, 7, 8, 9, 100, 'A', 'B', 'C']\n",
      "ListA after [0, 1, 2, 3, 4, 5, 0, 7, 8, 9, 100, 'A', 'B', 'C']\n",
      "ListA1 after [1000, 1, 2, 3, 4, 5, 0, 7, 8, 9, 100, 'A', 'B', 'C']\n",
      "\n",
      "ListA before [0, 1, 2, 3, 4, 5, 0, 7, 8, 9, 100, 'A', 'B', 'C']\n",
      "ListA after [0, 1, 2, 3, 4, 5, 0, 7, 8, 9, 100, 'A', 'B', 'C']\n",
      "ListA2 after [1000, 1, 2, 3, 4, 5, 0, 7, 8, 9, 100, 'A', 'B', 'C']\n",
      "\n"
     ]
    }
   ],
   "source": [
    "#1) Given a list of 10 elements:\n",
    "#a) Show the 3rd element\n",
    "#b) Add an element to the end\n",
    "#c) Replace the 7th element with 0\n",
    "#d) Append the list [\"A\", \"B\", \"C\"] to it\n",
    "#e) Create a new list by replacing the 1st element of this list by\n",
    "#   1000. THE ORIGINAL LIST SHOULD NOT CHANGE\n",
    "\n",
    "listA = [0,1,2,3,4,5,6,7,8,9]\n",
    "\n",
    "#a)\n",
    "print(\"3rd elem of ListA is\", listA[2])\n",
    "print(\"\")\n",
    "\n",
    "#b)\n",
    "print(\"ListA before\", listA)\n",
    "listA.append(100)\n",
    "print(\"ListA after\", listA)\n",
    "print(\"\")\n",
    "\n",
    "#c)\n",
    "print(\"ListA before\", listA)\n",
    "listA[6] = 0\n",
    "print(\"ListA after\", listA)\n",
    "print(\"\")\n",
    "\n",
    "#d)\n",
    "print(\"ListA before\", listA)\n",
    "listA.extend(['A', 'B', 'C'])\n",
    "print(\"ListA after\", listA)\n",
    "print(\"\")\n",
    "\n",
    "#c)\n",
    "#With .copy()\n",
    "print(\"ListA before\", listA)\n",
    "listA1 = listA.copy()\n",
    "listA1[0] = 1000\n",
    "print(\"ListA after\", listA)\n",
    "print(\"ListA1 after\", listA1)\n",
    "print(\"\")\n",
    "#With slicing\n",
    "print(\"ListA before\", listA)\n",
    "listA2 = listA[:]\n",
    "listA2[0] = 1000\n",
    "print(\"ListA after\", listA)\n",
    "print(\"ListA2 after\", listA2)\n",
    "print(\"\")"
   ]
  },
  {
   "cell_type": "code",
   "execution_count": 19,
   "metadata": {},
   "outputs": [
    {
     "name": "stdout",
     "output_type": "stream",
     "text": [
      "a) 0\n",
      "b) [3, 4, 5]\n",
      "c) [0, 3, 6, 9]\n",
      "d) [1, 3, 5, 7, 9]\n",
      "e) [7, 6, 5, 4]\n",
      "e) [7, 6, 5, 4]\n"
     ]
    }
   ],
   "source": [
    "#2) Given the list [0,1,2,3,4,5,6,7,8,9], use slicing to get\n",
    "#the following lists\n",
    "\n",
    "#a) [0]\n",
    "#b) [3,4,5]\n",
    "#c) [0,3,6,9]\n",
    "#d) [1,3,5,7,9]\n",
    "#e) [7,6,5,4]\n",
    "\n",
    "listB = [0,1,2,3,4,5,6,7,8,9]\n",
    "\n",
    "print(\"a)\", listB[0])\n",
    "print(\"b)\", listB[3:6])\n",
    "print(\"c)\", listB[::3])\n",
    "print(\"d)\", listB[1::2])\n",
    "\n",
    "#One way:\n",
    "print(\"e)\", listB[7:3:-1])\n",
    "\n",
    "#Another way:\n",
    "print(\"e)\", listB[-3:-7:-1])"
   ]
  },
  {
   "cell_type": "code",
   "execution_count": 22,
   "metadata": {},
   "outputs": [
    {
     "name": "stdout",
     "output_type": "stream",
     "text": [
      "Sum with the 1st loop 63.347098422231\n",
      "Sum with the 2nd loop 63.347098422231\n",
      "Sum with the compresension 63.347098422231\n"
     ]
    }
   ],
   "source": [
    "#3) Given a list of numbers, compute the sum of cubes of it's elements\n",
    "\n",
    "listC = [3.1415, 2.7182, 1.4142, 1.7320, 1.6180]\n",
    "\n",
    "#One way to do this with a loop\n",
    "sumC1 = 0\n",
    "for n in listC:\n",
    "    sumC1 += n ** 3\n",
    "print(\"Sum with the 1st loop\", sumC1)\n",
    "\n",
    "#Another way to do this with a loop\n",
    "#Create a list of cubes ans use sum()\n",
    "cubeList = []\n",
    "for n in listC:\n",
    "    cubeList.append(n ** 3)\n",
    "sumC2 = sum(cubeList)\n",
    "print(\"Sum with the 2nd loop\", sumC2)\n",
    "\n",
    "#The 3rd way is to use a list comprehesion\n",
    "#We can do a one-line solution with this\n",
    "print(\"Sum with the compresension\", sum([n ** 3 for n in listC]))"
   ]
  },
  {
   "cell_type": "code",
   "execution_count": 24,
   "metadata": {},
   "outputs": [
    {
     "name": "stdout",
     "output_type": "stream",
     "text": [
      "Number: 4\n",
      "Element: D\n"
     ]
    }
   ],
   "source": [
    "#4) Given a list of strings, ask the user for a number k,\n",
    "#then, print the kth element of the list, where the numbering\n",
    "#starts from 1\n",
    "\n",
    "listD = [\"A\", \"B\", \"C\", \"D\", \"E\", \"F\", \"G\"]\n",
    "\n",
    "#Ask the user for input and convert in into an int\n",
    "arrayNum = int(input(\"Number: \"))\n",
    "\n",
    "#Show the element\n",
    "#-1 is because we for the user, the elements should\n",
    "#be numbered from 1 onwards\n",
    "print(\"Element:\", listD[arrayNum - 1])"
   ]
  },
  {
   "cell_type": "code",
   "execution_count": null,
   "metadata": {},
   "outputs": [],
   "source": []
  }
 ],
 "metadata": {
  "kernelspec": {
   "display_name": "Python 3",
   "language": "python",
   "name": "python3"
  },
  "language_info": {
   "codemirror_mode": {
    "name": "ipython",
    "version": 3
   },
   "file_extension": ".py",
   "mimetype": "text/x-python",
   "name": "python",
   "nbconvert_exporter": "python",
   "pygments_lexer": "ipython3",
   "version": "3.7.4"
  }
 },
 "nbformat": 4,
 "nbformat_minor": 2
}
