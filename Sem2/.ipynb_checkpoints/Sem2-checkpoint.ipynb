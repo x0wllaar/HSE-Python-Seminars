{
 "cells": [
  {
   "cell_type": "markdown",
   "metadata": {},
   "source": [
    "### Lists"
   ]
  },
  {
   "cell_type": "code",
   "execution_count": 2,
   "metadata": {},
   "outputs": [
    {
     "name": "stdout",
     "output_type": "stream",
     "text": [
      "[1, 2, 3, 4, 5]\n",
      "['A', 'B', 'C', 'D']\n",
      "[1, 'B', 2, 'C', 3, 'D']\n"
     ]
    }
   ],
   "source": [
    "# A list is an ordered mutable collection that can contain\n",
    "# elements of multiple types\n",
    "\n",
    "#List literals are created with square brackets\n",
    "\n",
    "#A list of ints\n",
    "list1 = [1,2,3,4,5]\n",
    "print(list1)\n",
    "\n",
    "#A list of strings\n",
    "list2 = [\"A\", \"B\", \"C\", \"D\"]\n",
    "print(list2)\n",
    "\n",
    "#A mixed-type list\n",
    "list3 = [1, \"B\", 2, \"C\", 3, \"D\"]\n",
    "print(list3)"
   ]
  },
  {
   "cell_type": "code",
   "execution_count": 5,
   "metadata": {},
   "outputs": [
    {
     "name": "stdout",
     "output_type": "stream",
     "text": [
      "<class 'list'> <class 'list'> <class 'list'>\n"
     ]
    }
   ],
   "source": [
    "#The type of a list is \"list\"\n",
    "print(type(list1),type(list2),type(list3))"
   ]
  },
  {
   "cell_type": "code",
   "execution_count": 7,
   "metadata": {},
   "outputs": [
    {
     "name": "stdout",
     "output_type": "stream",
     "text": [
      "5\n",
      "0\n"
     ]
    }
   ],
   "source": [
    "#function len() gives us the length of a list\n",
    "print(len(list1))\n",
    "print(len([])) #length of an empty list is 0"
   ]
  },
  {
   "cell_type": "code",
   "execution_count": 11,
   "metadata": {},
   "outputs": [
    {
     "name": "stdout",
     "output_type": "stream",
     "text": [
      "1\n",
      "4\n"
     ]
    },
    {
     "ename": "IndexError",
     "evalue": "list index out of range",
     "output_type": "error",
     "traceback": [
      "\u001b[0;31m---------------------------------------------------------------------------\u001b[0m",
      "\u001b[0;31mIndexError\u001b[0m                                Traceback (most recent call last)",
      "\u001b[0;32m<ipython-input-11-200e66dec354>\u001b[0m in \u001b[0;36m<module>\u001b[0;34m\u001b[0m\n\u001b[1;32m      3\u001b[0m \u001b[0mprint\u001b[0m\u001b[0;34m(\u001b[0m\u001b[0mlist1\u001b[0m\u001b[0;34m[\u001b[0m\u001b[0;36m0\u001b[0m\u001b[0;34m]\u001b[0m\u001b[0;34m)\u001b[0m \u001b[0;31m#Lists start at 0 (not at 1 like in R)\u001b[0m\u001b[0;34m\u001b[0m\u001b[0;34m\u001b[0m\u001b[0m\n\u001b[1;32m      4\u001b[0m \u001b[0mprint\u001b[0m\u001b[0;34m(\u001b[0m\u001b[0mlist1\u001b[0m\u001b[0;34m[\u001b[0m\u001b[0;36m3\u001b[0m\u001b[0;34m]\u001b[0m\u001b[0;34m)\u001b[0m \u001b[0;31m#3 means the 4th element and so on\u001b[0m\u001b[0;34m\u001b[0m\u001b[0;34m\u001b[0m\u001b[0m\n\u001b[0;32m----> 5\u001b[0;31m \u001b[0mprint\u001b[0m\u001b[0;34m(\u001b[0m\u001b[0mlist1\u001b[0m\u001b[0;34m[\u001b[0m\u001b[0;36m100\u001b[0m\u001b[0;34m]\u001b[0m\u001b[0;34m)\u001b[0m \u001b[0;31m#This will error out becasue there are not than many elements!\u001b[0m\u001b[0;34m\u001b[0m\u001b[0;34m\u001b[0m\u001b[0m\n\u001b[0m",
      "\u001b[0;31mIndexError\u001b[0m: list index out of range"
     ]
    }
   ],
   "source": [
    "#Accessing individual elements of a list\n",
    "list1 = [1,2,3,4,5]\n",
    "print(list1[0]) #Lists start at 0 (not at 1 like in R)\n",
    "print(list1[3]) #3 means the 4th element and so on\n",
    "print(list1[100]) #This will error out becasue there are not than many elements!"
   ]
  },
  {
   "cell_type": "code",
   "execution_count": 13,
   "metadata": {},
   "outputs": [
    {
     "name": "stdout",
     "output_type": "stream",
     "text": [
      "5\n",
      "4\n"
     ]
    }
   ],
   "source": [
    "#We can also have negative indices\n",
    "#They index the list from the end\n",
    "\n",
    "print(list1[-1]) #prints the last element\n",
    "print(list1[-2]) #prints the second to last element"
   ]
  },
  {
   "cell_type": "code",
   "execution_count": 16,
   "metadata": {},
   "outputs": [
    {
     "name": "stdout",
     "output_type": "stream",
     "text": [
      "[1, 2, 3, 4, 5]\n",
      "[100, 2, 3, 4, 200]\n",
      "[100, 2, 3, 4, 200, 350]\n"
     ]
    }
   ],
   "source": [
    "#Lists are mutable\n",
    "#We can change and add elements\n",
    "\n",
    "list4 = [1,2,3,4,5]\n",
    "print(list4)\n",
    "\n",
    "list4[0] = 100 #change the first element\n",
    "list4[-1] = 200 #change the last element\n",
    "print(list4)\n",
    "\n",
    "list4.append(350) #add an element to the end\n",
    "print(list4)\n",
    "\n",
    "#YOU SHOULD NOT ADD ELEMENTS TO THE BEGINNING OF A LIST\n",
    "#IT IS A O(n) operation"
   ]
  },
  {
   "cell_type": "code",
   "execution_count": 17,
   "metadata": {},
   "outputs": [
    {
     "name": "stdout",
     "output_type": "stream",
     "text": [
      "[1, 2, 3, 4, 5]\n",
      "[1, 2, 3, 4, 5, 6, 7, 8]\n",
      "[1, 2, 3, 4, 5, 6, 7, 8, 9, 10, 11]\n"
     ]
    }
   ],
   "source": [
    "#We can add lists to other lists\n",
    "list5 = [1,2,3,4,5]\n",
    "print(list5)\n",
    "\n",
    "#With .extend()\n",
    "list5.extend([6,7,8])\n",
    "print(list5)\n",
    "\n",
    "#With concatenation (more intuitive, but slower)\n",
    "list5 += [9,10,11]\n",
    "#list5 = list5 + [9,10,11]\n",
    "print(list5)"
   ]
  },
  {
   "cell_type": "code",
   "execution_count": 38,
   "metadata": {},
   "outputs": [
    {
     "name": "stdout",
     "output_type": "stream",
     "text": [
      "[:] -  [1, 2, 3, 4, 5, 6, 7, 8, 9, 10]\n",
      "[2:] - [3, 4, 5, 6, 7, 8, 9, 10]\n",
      "[:3] -  [1, 2, 3]\n",
      "[::2] -  [1, 3, 5, 7, 9]\n",
      "[::-1] -  [10, 9, 8, 7, 6, 5, 4, 3, 2, 1]\n",
      "[::-2] -  [10, 8, 6, 4, 2]\n",
      "[1:8:3] -  [2, 5, 8]\n"
     ]
    }
   ],
   "source": [
    "#Python has a very useful feature called slicing\n",
    "#It allows us to create extract different parts of lists \n",
    "#with a convenient syntax\n",
    "\n",
    "list6 = [1, 2, 3, 4, 5, 6, 7, 8, 9, 10]\n",
    "\n",
    "#We can slice the whole list\n",
    "print(\"[:] - \", list6[:])\n",
    "\n",
    "#We can slice from an element to the end\n",
    "print(\"[2:] -\" ,list6[2:])\n",
    "\n",
    "#We can slice up to an element from the beginning\n",
    "print(\"[:3] - \",list6[:3])\n",
    "\n",
    "#We can show every nth element\n",
    "print(\"[::2] - \",list6[::2])\n",
    "\n",
    "#We can even use negative indices\n",
    "#this is useful for reversing lists\n",
    "print(\"[::-1] - \", list6[::-1])\n",
    "\n",
    "#Every second element in reverse order\n",
    "print(\"[::-2] - \", list6[::-2])\n",
    "\n",
    "#We can combine\n",
    "print(\"[1:8:3] - \", list6[1:8:3])"
   ]
  },
  {
   "cell_type": "code",
   "execution_count": 45,
   "metadata": {},
   "outputs": [
    {
     "name": "stdout",
     "output_type": "stream",
     "text": [
      "[1, 2, 3, 4, 5, 6, 7, 8, 9, 10]  -  [1, 2, 3, 4, 5, 6, 7, 8, 9, 10]\n",
      "[0, 2, 3, 4, 5, 6, 7, 8, 9, 10, 100]  -  [0, 2, 3, 4, 5, 6, 7, 8, 9, 10, 100]\n",
      "\n",
      "[0, 2, 3, 4, 5, 6, 7, 8, 9, 10, 100]  -  [0, 2, 3, 4, 5, 6, 7, 8, 9, 10, 100]\n",
      "[0, 2, 3, 4, 5, 6, 7, 8, 9, 10, 100]  -  [0, 2, 3, 4, 5, 6, 7, 8, 9, 10, 100, 200]\n",
      "\n",
      "[0, 2, 3, 4, 5, 6, 7, 8, 9, 10, 100]  -  [0, 2, 3, 4, 5, 6, 7, 8, 9, 10, 100]\n",
      "[0, 2, 3, 4, 5, 6, 7, 8, 9, 10, 100]  -  [0, 2, 3, 4, 5, 6, 7, 8, 9, 10, 100, 200]\n"
     ]
    }
   ],
   "source": [
    "#One important caveat:\n",
    "#Assigning a list to a new variable creates a shallow copy\n",
    "#So changes to one will affect the other\n",
    "list7 = [1, 2, 3, 4, 5, 6, 7, 8, 9, 10]\n",
    "list8 = list7\n",
    "print(list7, \" - \", list8)\n",
    "\n",
    "list8[0] = 0\n",
    "list8.append(100)\n",
    "print(list7, \" - \", list8)\n",
    "print(\"\")\n",
    "\n",
    "#If we want to prevent this, we need to create a deep copy\n",
    "#of the list\n",
    "\n",
    "#This can be done with slicing\n",
    "list9 = list7[:]\n",
    "print(list7, \" - \", list9)\n",
    "list9.append(200)\n",
    "print(list7, \" - \", list9)\n",
    "print(\"\")\n",
    "\n",
    "#Or with a special method\n",
    "list10 = list7.copy()\n",
    "print(list7, \" - \", list10)\n",
    "list10.append(200)\n",
    "print(list7, \" - \", list10)"
   ]
  },
  {
   "cell_type": "code",
   "execution_count": 63,
   "metadata": {},
   "outputs": [
    {
     "name": "stdout",
     "output_type": "stream",
     "text": [
      "max(): 10\n",
      "min(): 1\n",
      "sum(): 55\n"
     ]
    }
   ],
   "source": [
    "#Useful functions on lists\n",
    "list11 = [1, 2, 3, 4, 5, 6, 7, 8, 9, 10]\n",
    "\n",
    "#Biggest element\n",
    "print(\"max():\", max(list11))\n",
    "\n",
    "#Smallest element\n",
    "print(\"min():\", min(list11))\n",
    "\n",
    "#Sum of elements\n",
    "print(\"sum():\", sum(list11))"
   ]
  },
  {
   "cell_type": "markdown",
   "metadata": {},
   "source": [
    "### For loop"
   ]
  },
  {
   "cell_type": "code",
   "execution_count": 65,
   "metadata": {},
   "outputs": [
    {
     "name": "stdout",
     "output_type": "stream",
     "text": [
      "1\n",
      "2\n",
      "3\n",
      "4\n",
      "5\n",
      "6\n",
      "7\n",
      "8\n",
      "9\n",
      "10\n"
     ]
    }
   ],
   "source": [
    "#For loop in python is a lot like a foraech loop in other languages\n",
    "#It allows us to iterate over elements of an iterable object\n",
    "#(for now, this means a list :-) )\n",
    "\n",
    "list11 = [1, 2, 3, 4, 5, 6, 7, 8, 9, 10]\n",
    "for elem in list11:\n",
    "    print(elem)\n",
    "#On each iteration, elem will be a new element of list11"
   ]
  },
  {
   "cell_type": "code",
   "execution_count": 68,
   "metadata": {},
   "outputs": [
    {
     "name": "stdout",
     "output_type": "stream",
     "text": [
      "Mean of [1, 2, 3, 4, 5, 6, 7, 8, 9, 10] is 5.5\n"
     ]
    }
   ],
   "source": [
    "#We can modify the global state in a loop\n",
    "list11 = [1, 2, 3, 4, 5, 6, 7, 8, 9, 10]\n",
    "list11Sum = 0\n",
    "for e in list11:\n",
    "    list11Sum += e\n",
    "print(f\"Mean of {list11} is {list11Sum / len(list11)}\")"
   ]
  },
  {
   "cell_type": "markdown",
   "metadata": {},
   "source": [
    "### Range function"
   ]
  },
  {
   "cell_type": "code",
   "execution_count": 75,
   "metadata": {},
   "outputs": [
    {
     "name": "stdout",
     "output_type": "stream",
     "text": [
      "0\n",
      "1\n",
      "2\n",
      "3\n",
      "4\n"
     ]
    }
   ],
   "source": [
    "#Sometimes we just want to iterate over a list of sequential\n",
    "#numbers\n",
    "#for this, we have the range() function\n",
    "\n",
    "for n in range(0, 5):\n",
    "    print(n)\n",
    "    \n",
    "#It does not include the right end!!! (0 is included, 5 is NOT)"
   ]
  },
  {
   "cell_type": "code",
   "execution_count": 78,
   "metadata": {},
   "outputs": [
    {
     "name": "stdout",
     "output_type": "stream",
     "text": [
      "0\n",
      "1\n",
      "2\n",
      "3\n",
      "4\n"
     ]
    }
   ],
   "source": [
    "#If the number of the left is 0, we can not specify it at all\n",
    "for n in range(5):\n",
    "    print(n)"
   ]
  },
  {
   "cell_type": "code",
   "execution_count": 80,
   "metadata": {},
   "outputs": [
    {
     "name": "stdout",
     "output_type": "stream",
     "text": [
      "range(0, 5)\n",
      "[0, 1, 2, 3, 4]\n"
     ]
    }
   ],
   "source": [
    "#Range is NOT a list, it's an iterable object\n",
    "print(range(0,5)) #Will not print numbers\n",
    "\n",
    "#We can convert it into a list\n",
    "print(list(range(0,5)))"
   ]
  },
  {
   "cell_type": "markdown",
   "metadata": {},
   "source": [
    "### Some excercises"
   ]
  },
  {
   "cell_type": "code",
   "execution_count": 81,
   "metadata": {},
   "outputs": [],
   "source": [
    "#1) Given a list of 10 elements:\n",
    "#a) Show the 3rd element\n",
    "#b) Add an element to the end\n",
    "#c) Replace the 7th element with 0\n",
    "#d) Append the list [\"A\", \"B\", \"C\"] to it\n",
    "#e) Create a new list by replacing the 1st element of this list by\n",
    "#   1000. THE ORIGINAL LIST SHOULD NOT CHANGE\n",
    "\n",
    "listA = [0,1,2,3,4,5,6,7,8,9]"
   ]
  },
  {
   "cell_type": "code",
   "execution_count": 94,
   "metadata": {},
   "outputs": [],
   "source": [
    "#2) Given the list [0,1,2,3,4,5,6,7,8,9], use slicing to get\n",
    "#the following lists\n",
    "\n",
    "#a) [0]\n",
    "#b) [3,4,5]\n",
    "#c) [0,3,6,9]\n",
    "#d) [1,3,5,7,9]\n",
    "#e) [7,6,5,4]\n",
    "\n",
    "listB = [0,1,2,3,4,5,6,7,8,9]"
   ]
  },
  {
   "cell_type": "code",
   "execution_count": 95,
   "metadata": {},
   "outputs": [],
   "source": [
    "#3) Given a list of numbers, compute the sum of cubes of it's elements\n",
    "\n",
    "listC = [3.1415, 2.7182, 1.4142, 1.7320, 1.6180]"
   ]
  },
  {
   "cell_type": "code",
   "execution_count": 96,
   "metadata": {},
   "outputs": [],
   "source": [
    "#4) Given a list of strings, ask the user for a number k,\n",
    "#then, print the kth element of the list, where the numbering\n",
    "#starts from 1\n",
    "\n",
    "listD = [\"A\", \"B\", \"C\", \"D\", \"E\", \"F\", \"G\"]"
   ]
  },
  {
   "cell_type": "code",
   "execution_count": null,
   "metadata": {},
   "outputs": [],
   "source": []
  }
 ],
 "metadata": {
  "kernelspec": {
   "display_name": "Python 3",
   "language": "python",
   "name": "python3"
  },
  "language_info": {
   "codemirror_mode": {
    "name": "ipython",
    "version": 3
   },
   "file_extension": ".py",
   "mimetype": "text/x-python",
   "name": "python",
   "nbconvert_exporter": "python",
   "pygments_lexer": "ipython3",
   "version": "3.7.4"
  }
 },
 "nbformat": 4,
 "nbformat_minor": 2
}
