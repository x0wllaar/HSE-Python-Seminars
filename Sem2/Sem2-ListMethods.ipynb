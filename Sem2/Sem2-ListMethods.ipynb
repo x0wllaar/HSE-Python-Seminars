{
 "cells": [
  {
   "cell_type": "markdown",
   "metadata": {},
   "source": [
    "### Methods for lists"
   ]
  },
  {
   "cell_type": "code",
   "execution_count": 22,
   "metadata": {},
   "outputs": [
    {
     "name": "stdout",
     "output_type": "stream",
     "text": [
      "L = [0, 1, 2, 3, 4, 5, 6, 7, 8, 'A', 'B', 'C', 'A', 'B', 'C'], 15 elements\n"
     ]
    }
   ],
   "source": [
    "#L is the list we will use\n",
    "L = list(range(9)) + [chr(65 + n) for n in range(3)] * 2\n",
    "print(f\"L = {L}, {len(L)} elements\")"
   ]
  },
  {
   "cell_type": "code",
   "execution_count": 20,
   "metadata": {},
   "outputs": [
    {
     "name": "stdout",
     "output_type": "stream",
     "text": [
      "Index of A is 9\n",
      "Index of 6 is 6\n"
     ]
    },
    {
     "ename": "ValueError",
     "evalue": "'X' is not in list",
     "output_type": "error",
     "traceback": [
      "\u001b[0;31m---------------------------------------------------------------------------\u001b[0m",
      "\u001b[0;31mValueError\u001b[0m                                Traceback (most recent call last)",
      "\u001b[0;32m<ipython-input-20-92767d362ece>\u001b[0m in \u001b[0;36m<module>\u001b[0;34m\u001b[0m\n\u001b[1;32m      9\u001b[0m \u001b[0;34m\u001b[0m\u001b[0m\n\u001b[1;32m     10\u001b[0m \u001b[0;31m#When an element is not present, an exception is raised\u001b[0m\u001b[0;34m\u001b[0m\u001b[0;34m\u001b[0m\u001b[0;34m\u001b[0m\u001b[0m\n\u001b[0;32m---> 11\u001b[0;31m \u001b[0mprint\u001b[0m\u001b[0;34m(\u001b[0m\u001b[0;34mf\"Index of X is {L.index('X')}\"\u001b[0m\u001b[0;34m)\u001b[0m \u001b[0;31m#this will error out!\u001b[0m\u001b[0;34m\u001b[0m\u001b[0;34m\u001b[0m\u001b[0m\n\u001b[0m",
      "\u001b[0;31mValueError\u001b[0m: 'X' is not in list"
     ]
    }
   ],
   "source": [
    "#Find the index of an element\n",
    "#.index() function\n",
    "#Warning! This function has complexity of O(n)\n",
    "#So use it carefully\n",
    "#Will show index of the leftmost element\n",
    "\n",
    "print(f\"Index of A is {L.index('A')}\")\n",
    "print(f\"Index of 6 is {L.index(6)}\")\n",
    "\n",
    "#When an element is not present, an exception is raised\n",
    "print(f\"Index of X is {L.index('X')}\") #this will error out!"
   ]
  },
  {
   "cell_type": "code",
   "execution_count": 21,
   "metadata": {},
   "outputs": [
    {
     "name": "stdout",
     "output_type": "stream",
     "text": [
      "A is in the list 2 times\n",
      "6 is in the list 1 time\n",
      "X is in the list 0 times\n"
     ]
    }
   ],
   "source": [
    "#Count how many times an element is in the list\n",
    "#.count method\n",
    "#Warning! This function has complexity of O(n)\n",
    "#So use it carefully\n",
    "\n",
    "print(f\"A is in the list {L.count('A')} times\")\n",
    "print(f\"6 is in the list {L.count(6)} time\")\n",
    "\n",
    "#When an element is not present, the function returns 0\n",
    "print(f\"X is in the list {L.count('X')} times\") #this will error out!"
   ]
  },
  {
   "cell_type": "code",
   "execution_count": 36,
   "metadata": {},
   "outputs": [
    {
     "name": "stdout",
     "output_type": "stream",
     "text": [
      "L Before = [0, 1, 2, 3, 4, 5, 6, 7, 8, 'A', 'B', 'C', 'A', 'B', 'C'], 15 elements\n",
      "L After = [0, 1, 'X', 2, 3, 4, 5, 6, 7, 8, 'A', 'B', 'C', 'A', 'B', 'C'], 16 elements\n",
      "L After = [0, 1, 'X', 2, 3, 4, 5, 6, 7, 8, 'A', 'B', 'C', 'A', 'B', 'C', 'X'], 17 elements\n"
     ]
    }
   ],
   "source": [
    "#Insert an element into the beginning or the middle of a list\n",
    "#.insert() method\n",
    "#Warning! This function has complexity of O(n)\n",
    "#So use it carefully\n",
    "\n",
    "#There are other collections that support appending to both ends\n",
    "#in O(1)\n",
    "\n",
    "print(f\"L Before = {L}, {len(L)} elements\")\n",
    "\n",
    "L.insert(2, \"X\")\n",
    "print(f\"L After = {L}, {len(L)} elements\")\n",
    "\n",
    "#If the index is more than the length of the list, \n",
    "#the element will be appended\n",
    "L.insert(1000, \"X\")\n",
    "print(f\"L After = {L}, {len(L)} elements\")\n",
    "\n",
    "#Restore L\n",
    "L = list(range(9)) + [chr(65 + n) for n in range(3)] * 2"
   ]
  },
  {
   "cell_type": "code",
   "execution_count": 37,
   "metadata": {},
   "outputs": [
    {
     "name": "stdout",
     "output_type": "stream",
     "text": [
      "L Before = [0, 1, 2, 3, 4, 5, 6, 7, 8, 'A', 'B', 'C', 'A', 'B', 'C'], 15 elements\n",
      "L After = [0, 1, 2, 3, 4, 5, 6, 7, 8, 'B', 'C', 'A', 'B', 'C'], 14 elements\n",
      "L After = [0, 1, 2, 3, 4, 5, 6, 7, 8, 'B', 'C', 'B', 'C'], 13 elements\n"
     ]
    },
    {
     "ename": "ValueError",
     "evalue": "list.remove(x): x not in list",
     "output_type": "error",
     "traceback": [
      "\u001b[0;31m---------------------------------------------------------------------------\u001b[0m",
      "\u001b[0;31mValueError\u001b[0m                                Traceback (most recent call last)",
      "\u001b[0;32m<ipython-input-37-4b29ac38705b>\u001b[0m in \u001b[0;36m<module>\u001b[0;34m\u001b[0m\n\u001b[1;32m     17\u001b[0m \u001b[0;34m\u001b[0m\u001b[0m\n\u001b[1;32m     18\u001b[0m \u001b[0;31m#When an element is not present, an exception is raised\u001b[0m\u001b[0;34m\u001b[0m\u001b[0;34m\u001b[0m\u001b[0;34m\u001b[0m\u001b[0m\n\u001b[0;32m---> 19\u001b[0;31m \u001b[0mL\u001b[0m\u001b[0;34m.\u001b[0m\u001b[0mremove\u001b[0m\u001b[0;34m(\u001b[0m\u001b[0;34m\"X\"\u001b[0m\u001b[0;34m)\u001b[0m\u001b[0;34m\u001b[0m\u001b[0;34m\u001b[0m\u001b[0m\n\u001b[0m",
      "\u001b[0;31mValueError\u001b[0m: list.remove(x): x not in list"
     ]
    }
   ],
   "source": [
    "#Remove an element from a list\n",
    "#.remove() method\n",
    "#Warning! This function has complexity of O(n)\n",
    "#So use it carefully\n",
    "print(f\"L Before = {L}, {len(L)} elements\")\n",
    "\n",
    "#Will remove the leftmost A\n",
    "L.remove(\"A\")\n",
    "print(f\"L After = {L}, {len(L)} elements\")\n",
    "\n",
    "#Will remove the second A\n",
    "L.remove(\"A\")\n",
    "print(f\"L After = {L}, {len(L)} elements\")\n",
    "\n",
    "#Restore L\n",
    "L = list(range(9)) + [chr(65 + n) for n in range(3)] * 2\n",
    "\n",
    "#When an element is not present, an exception is raised\n",
    "L.remove(\"X\")"
   ]
  },
  {
   "cell_type": "code",
   "execution_count": 44,
   "metadata": {},
   "outputs": [
    {
     "name": "stdout",
     "output_type": "stream",
     "text": [
      "L Before = [0, 1, 2, 3, 4, 5, 6, 7, 8, 'A', 'B', 'C', 'A', 'B', 'C'], 15 elements\n",
      "\n",
      "Popped element 0\n",
      "L After = [1, 2, 3, 4, 5, 6, 7, 8, 'A', 'B', 'C', 'A', 'B', 'C'], 14 elements\n",
      "\n",
      "Popped element C\n",
      "L After = [1, 2, 3, 4, 5, 6, 7, 8, 'A', 'B', 'A', 'B', 'C'], 13 elements\n",
      "\n"
     ]
    },
    {
     "ename": "IndexError",
     "evalue": "pop index out of range",
     "output_type": "error",
     "traceback": [
      "\u001b[0;31m---------------------------------------------------------------------------\u001b[0m",
      "\u001b[0;31mIndexError\u001b[0m                                Traceback (most recent call last)",
      "\u001b[0;32m<ipython-input-44-147538f7d014>\u001b[0m in \u001b[0;36m<module>\u001b[0;34m\u001b[0m\n\u001b[1;32m     25\u001b[0m \u001b[0;31m#If the index is more than the length of the list,\u001b[0m\u001b[0;34m\u001b[0m\u001b[0;34m\u001b[0m\u001b[0;34m\u001b[0m\u001b[0m\n\u001b[1;32m     26\u001b[0m \u001b[0;31m#an exception will be raised\u001b[0m\u001b[0;34m\u001b[0m\u001b[0;34m\u001b[0m\u001b[0;34m\u001b[0m\u001b[0m\n\u001b[0;32m---> 27\u001b[0;31m \u001b[0mL\u001b[0m\u001b[0;34m.\u001b[0m\u001b[0mpop\u001b[0m\u001b[0;34m(\u001b[0m\u001b[0;36m100\u001b[0m\u001b[0;34m)\u001b[0m \u001b[0;31m#this errors out\u001b[0m\u001b[0;34m\u001b[0m\u001b[0;34m\u001b[0m\u001b[0m\n\u001b[0m",
      "\u001b[0;31mIndexError\u001b[0m: pop index out of range"
     ]
    }
   ],
   "source": [
    "#Get an element from a list by index and remove it\n",
    "#.pop() method\n",
    "#Warning! This function has complexity of O(n)\n",
    "#So use it carefully\n",
    "\n",
    "#There are other collections that support popping from both ends\n",
    "#in O(1)\n",
    "\n",
    "print(f\"L Before = {L}, {len(L)} elements\")\n",
    "print(\"\")\n",
    "\n",
    "elemA = L.pop(0)\n",
    "print(f\"Popped element {elemA}\")\n",
    "print(f\"L After = {L}, {len(L)} elements\")\n",
    "print(\"\")\n",
    "\n",
    "elemB = L.pop(10)\n",
    "print(f\"Popped element {elemB}\")\n",
    "print(f\"L After = {L}, {len(L)} elements\")\n",
    "print(\"\")\n",
    "\n",
    "#Restore L\n",
    "L = list(range(9)) + [chr(65 + n) for n in range(3)] * 2\n",
    "\n",
    "#If the index is more than the length of the list, \n",
    "#an exception will be raised\n",
    "L.pop(100) #this errors out"
   ]
  },
  {
   "cell_type": "code",
   "execution_count": 49,
   "metadata": {},
   "outputs": [
    {
     "name": "stdout",
     "output_type": "stream",
     "text": [
      "unsortedL = [3, 8, 9, 1, 2, 6, 0]\n",
      "sortedL = [0, 1, 2, 3, 6, 8, 9]\n",
      "sortedL = [9, 8, 6, 3, 2, 1, 0]\n",
      "\n",
      "unsortedL = [0, 1, 2, 3, 6, 8, 9]\n",
      "unsortedL = [9, 8, 6, 3, 2, 1, 0]\n"
     ]
    }
   ],
   "source": [
    "#Sorting lists\n",
    "\n",
    "unsortedL = [3, 8, 9, 1, 2, 6, 0]\n",
    "print(f\"unsortedL = {unsortedL}\")\n",
    "\n",
    "#2 ways:\n",
    "\n",
    "#sorted() function\n",
    "#1) This creates a new list and returns it\n",
    "sortedL = sorted(unsortedL)\n",
    "print(f\"sortedL = {sortedL}\")\n",
    "\n",
    "#We can use reversed = True to reverse the order of the sort\n",
    "sortedL = sorted(unsortedL, reverse=True)\n",
    "print(f\"sortedL = {sortedL}\")\n",
    "\n",
    "print(\"\")\n",
    "\n",
    "#2)This sorts the list in-place without returning it\n",
    "#helps to save memory\n",
    "#.sort() method\n",
    "unsortedL.sort()\n",
    "print(f\"unsortedL = {unsortedL}\")\n",
    "\n",
    "#reverse = True also works\n",
    "unsortedL.sort(reverse=True)\n",
    "print(f\"unsortedL = {unsortedL}\")"
   ]
  },
  {
   "cell_type": "code",
   "execution_count": null,
   "metadata": {},
   "outputs": [],
   "source": []
  }
 ],
 "metadata": {
  "kernelspec": {
   "display_name": "Python 3",
   "language": "python",
   "name": "python3"
  },
  "language_info": {
   "codemirror_mode": {
    "name": "ipython",
    "version": 3
   },
   "file_extension": ".py",
   "mimetype": "text/x-python",
   "name": "python",
   "nbconvert_exporter": "python",
   "pygments_lexer": "ipython3",
   "version": "3.7.4"
  }
 },
 "nbformat": 4,
 "nbformat_minor": 2
}
