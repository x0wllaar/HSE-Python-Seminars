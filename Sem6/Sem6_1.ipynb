{
 "cells": [
  {
   "cell_type": "code",
   "execution_count": 17,
   "metadata": {},
   "outputs": [
    {
     "name": "stdout",
     "output_type": "stream",
     "text": [
      "ARGS: (1, 2, 4)\n",
      "KWARGS: {'d': 1, 'e': 2}\n",
      "Hello from function\n"
     ]
    }
   ],
   "source": [
    "def printArgs(f):\n",
    "    def inner (*args, **kwargs):\n",
    "        print(f\"ARGS: {args}\")\n",
    "        print(f\"KWARGS: {kwargs}\")\n",
    "        f(*args, **kwargs)\n",
    "    return inner\n",
    "\n",
    "def testF(a=0, b=0, c=0, d=0, e=0):\n",
    "    print(\"Hello from function\")\n",
    "    \n",
    "testF = printArgs(testF)\n",
    "testF(1,2,4, d=1, e=2)"
   ]
  },
  {
   "cell_type": "code",
   "execution_count": 19,
   "metadata": {},
   "outputs": [
    {
     "name": "stdout",
     "output_type": "stream",
     "text": [
      "arg 0 = 1\n",
      "arg 1 = 2\n",
      "arg 2 = 3\n",
      "arg 3 = 4\n",
      "***\n",
      "a = test\n"
     ]
    }
   ],
   "source": [
    "def variadicF(*args, **kwargs):\n",
    "    n = 0\n",
    "    for a in args:\n",
    "        print(f\"arg {n} = {a}\")\n",
    "        n += 1\n",
    "    print(\"***\")\n",
    "    for key in kwargs:\n",
    "        print(key, \"=\", kwargs[key])\n",
    "\n",
    "variadicF(1,2,3,4, a = \"test\")"
   ]
  },
  {
   "cell_type": "code",
   "execution_count": null,
   "metadata": {},
   "outputs": [],
   "source": []
  }
 ],
 "metadata": {
  "kernelspec": {
   "display_name": "Python 3",
   "language": "python",
   "name": "python3"
  },
  "language_info": {
   "codemirror_mode": {
    "name": "ipython",
    "version": 3
   },
   "file_extension": ".py",
   "mimetype": "text/x-python",
   "name": "python",
   "nbconvert_exporter": "python",
   "pygments_lexer": "ipython3",
   "version": "3.7.4"
  }
 },
 "nbformat": 4,
 "nbformat_minor": 2
}
