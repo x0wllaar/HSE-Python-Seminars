{
 "cells": [
  {
   "cell_type": "code",
   "execution_count": 1,
   "metadata": {},
   "outputs": [],
   "source": [
    "import requests\n",
    "from bs4 import BeautifulSoup"
   ]
  },
  {
   "cell_type": "code",
   "execution_count": 13,
   "metadata": {},
   "outputs": [],
   "source": [
    "WEATHER_URL = \"https://weather.com/weather/today/l/34f2aafc84cff75ae0b014754856ea5e7f8ddf618cf9735549dfb5e016c28e10\"\n",
    "TEMP_N_CHARS = set(list(\"0123456789-+\"))"
   ]
  },
  {
   "cell_type": "code",
   "execution_count": 3,
   "metadata": {},
   "outputs": [],
   "source": [
    "def get_temp_from_url(url):\n",
    "    w_req = requests.get(WEATHER_URL)\n",
    "    assert w_req.status_code == 200, f\"Something went wrong, status code {w_req.status_code}\"\n",
    "    \n",
    "    soup = BeautifulSoup(w_req.text, \"html.parser\")\n",
    "    deg_text = soup.find(class_=\"today_nowcard-temp\").text\n",
    "    deg_num_text = \"\".join([c for c in deg_text if c in TEMP_N_CHARS])\n",
    "    deg_int_f = int(deg_num_text)\n",
    "    \n",
    "    deg_int_c = round((deg_int_f - 32) / 1.8)\n",
    "    \n",
    "    weath_text = soup.find(class_=\"today_nowcard-phrase\").text\n",
    "    \n",
    "    return(deg_int_c, weath_text)"
   ]
  },
  {
   "cell_type": "code",
   "execution_count": 4,
   "metadata": {},
   "outputs": [
    {
     "data": {
      "text/plain": [
       "(4, 'Light Rain')"
      ]
     },
     "execution_count": 4,
     "metadata": {},
     "output_type": "execute_result"
    }
   ],
   "source": [
    "get_temp_from_url(WEATHER_URL)"
   ]
  },
  {
   "cell_type": "code",
   "execution_count": 5,
   "metadata": {},
   "outputs": [],
   "source": [
    "w_req = requests.get(WEATHER_URL)\n",
    "assert w_req.status_code == 200, f\"Something went wrong, status code {w_req.status_code}\""
   ]
  },
  {
   "cell_type": "code",
   "execution_count": 6,
   "metadata": {},
   "outputs": [],
   "source": [
    "soup = BeautifulSoup(w_req.text, \"html.parser\")"
   ]
  },
  {
   "cell_type": "code",
   "execution_count": 24,
   "metadata": {},
   "outputs": [
    {
     "data": {
      "text/plain": [
       "39"
      ]
     },
     "execution_count": 24,
     "metadata": {},
     "output_type": "execute_result"
    }
   ],
   "source": [
    "TEMP_N_CHARS = set(list(\"0123456789-+\"))\n",
    "\n",
    "tempDiv = soup.find(class_=\"today_nowcard-temp\")\n",
    "tempDiv.text\n",
    "\n",
    "tempDivFilteredList = [c for c in tempDiv.text if c in TEMP_N_CHARS]\n",
    "tempDivFilteredList\n",
    "\n",
    "tempDivFilteredString = \"\".join(tempDivFilteredList)\n",
    "tempDivFilteredString\n",
    "\n",
    "tempIntF = int(tempDivFilteredString)\n",
    "tempIntF"
   ]
  },
  {
   "cell_type": "code",
   "execution_count": 25,
   "metadata": {},
   "outputs": [
    {
     "data": {
      "text/plain": [
       "4"
      ]
     },
     "execution_count": 25,
     "metadata": {},
     "output_type": "execute_result"
    }
   ],
   "source": [
    "round((tempIntF - 32) / 1.8)"
   ]
  },
  {
   "cell_type": "code",
   "execution_count": 26,
   "metadata": {},
   "outputs": [
    {
     "data": {
      "text/plain": [
       "'Light Rain'"
      ]
     },
     "execution_count": 26,
     "metadata": {},
     "output_type": "execute_result"
    }
   ],
   "source": [
    "soup.find(class_ = \"today_nowcard-phrase\").text"
   ]
  },
  {
   "cell_type": "code",
   "execution_count": 27,
   "metadata": {},
   "outputs": [],
   "source": [
    "def get_temp_from_url(url):\n",
    "    w_req = requests.get(WEATHER_URL)\n",
    "    assert w_req.status_code == 200, f\"Something went wrong, status code {w_req.status_code}\"\n",
    "    \n",
    "    soup = BeautifulSoup(w_req.text, \"html.parser\")\n",
    "    deg_text = soup.find(class_=\"today_nowcard-temp\").text\n",
    "    deg_num_text = \"\".join([c for c in deg_text if c in TEMP_N_CHARS])\n",
    "    deg_int_f = int(deg_num_text)\n",
    "    \n",
    "    deg_int_c = round((deg_int_f - 32) / 1.8)\n",
    "    \n",
    "    weath_text = soup.find(class_=\"today_nowcard-phrase\").text\n",
    "    \n",
    "    return(deg_int_c, weath_text)"
   ]
  },
  {
   "cell_type": "code",
   "execution_count": 28,
   "metadata": {},
   "outputs": [
    {
     "data": {
      "text/plain": [
       "(4, 'Light Rain')"
      ]
     },
     "execution_count": 28,
     "metadata": {},
     "output_type": "execute_result"
    }
   ],
   "source": [
    "get_temp_from_url(\"https://weather.com/weather/today/l/34f2aafc84cff75ae0b014754856ea5e7f8ddf618cf9735549dfb5e016c28e10\")"
   ]
  },
  {
   "cell_type": "code",
   "execution_count": 29,
   "metadata": {},
   "outputs": [
    {
     "data": {
      "text/plain": [
       "(4, 'Light Rain')"
      ]
     },
     "execution_count": 29,
     "metadata": {},
     "output_type": "execute_result"
    }
   ],
   "source": [
    "get_temp_from_url(\"https://weather.com/weather/today/l/e3bbb4aea3f8752822b4d8ea5f4e48178b130e522bf11d1a678ec1ecd3469f22\")"
   ]
  },
  {
   "cell_type": "code",
   "execution_count": null,
   "metadata": {},
   "outputs": [],
   "source": []
  }
 ],
 "metadata": {
  "kernelspec": {
   "display_name": "Python 3",
   "language": "python",
   "name": "python3"
  },
  "language_info": {
   "codemirror_mode": {
    "name": "ipython",
    "version": 3
   },
   "file_extension": ".py",
   "mimetype": "text/x-python",
   "name": "python",
   "nbconvert_exporter": "python",
   "pygments_lexer": "ipython3",
   "version": "3.7.4"
  }
 },
 "nbformat": 4,
 "nbformat_minor": 2
}
